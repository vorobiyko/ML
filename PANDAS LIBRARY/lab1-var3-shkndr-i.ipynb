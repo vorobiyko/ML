{
 "cells": [
  {
   "cell_type": "markdown",
   "id": "01e8521f",
   "metadata": {},
   "source": [
    "Shkinder Ivan ПК-21 variant 3\n"
   ]
  },
  {
   "cell_type": "markdown",
   "id": "9aaef484",
   "metadata": {},
   "source": [
    "Набір даних: злочинність в Лос-Анджелесі (la-crime.csv)."
   ]
  },
  {
   "cell_type": "code",
   "execution_count": null,
   "id": "af0bc1a6",
   "metadata": {},
   "outputs": [],
   "source": [
    "import pandas as pd\n",
    "import numpy as np\n",
    "import matplotlib.pyplot as plt"
   ]
  },
  {
   "cell_type": "markdown",
   "id": "6c600ae1",
   "metadata": {},
   "source": [
    "1. Завантажте набір даних."
   ]
  },
  {
   "cell_type": "code",
   "execution_count": 1,
   "id": "adfb5f4b",
   "metadata": {},
   "outputs": [
    {
     "ename": "NameError",
     "evalue": "name 'pd' is not defined",
     "output_type": "error",
     "traceback": [
      "\u001b[0;31m---------------------------------------------------------------------------\u001b[0m",
      "\u001b[0;31mNameError\u001b[0m                                 Traceback (most recent call last)",
      "Cell \u001b[0;32mIn[1], line 1\u001b[0m\n\u001b[0;32m----> 1\u001b[0m la_crime_data \u001b[39m=\u001b[39m pd\u001b[39m.\u001b[39mread_csv(\u001b[39m'\u001b[39m\u001b[39m./la-crimes.csv\u001b[39m\u001b[39m'\u001b[39m)\n\u001b[1;32m      2\u001b[0m la_crime_data\u001b[39m.\u001b[39minfo()\n",
      "\u001b[0;31mNameError\u001b[0m: name 'pd' is not defined"
     ]
    }
   ],
   "source": [
    "la_crime_data = pd.read_csv('./la-crimes.csv')\n",
    "la_crime_data.info()"
   ]
  },
  {
   "cell_type": "markdown",
   "id": "922249c1",
   "metadata": {},
   "source": [
    "2. Виведіть заголовок таблиці (перші 5 записів)."
   ]
  },
  {
   "cell_type": "code",
   "execution_count": 150,
   "id": "d3e00cd3",
   "metadata": {},
   "outputs": [
    {
     "data": {
      "text/html": [
       "<div>\n",
       "<style scoped>\n",
       "    .dataframe tbody tr th:only-of-type {\n",
       "        vertical-align: middle;\n",
       "    }\n",
       "\n",
       "    .dataframe tbody tr th {\n",
       "        vertical-align: top;\n",
       "    }\n",
       "\n",
       "    .dataframe thead th {\n",
       "        text-align: right;\n",
       "    }\n",
       "</style>\n",
       "<table border=\"1\" class=\"dataframe\">\n",
       "  <thead>\n",
       "    <tr style=\"text-align: right;\">\n",
       "      <th></th>\n",
       "      <th>Unnamed: 0</th>\n",
       "      <th>DR Number</th>\n",
       "      <th>Date Reported</th>\n",
       "      <th>Date Occurred</th>\n",
       "      <th>Time Occurred</th>\n",
       "      <th>Area ID</th>\n",
       "      <th>Area Name</th>\n",
       "      <th>Reporting District</th>\n",
       "      <th>Crime Code</th>\n",
       "      <th>Crime Code Description</th>\n",
       "      <th>...</th>\n",
       "      <th>Weapon Description</th>\n",
       "      <th>Status Code</th>\n",
       "      <th>Status Description</th>\n",
       "      <th>Crime Code 1</th>\n",
       "      <th>Crime Code 2</th>\n",
       "      <th>Crime Code 3</th>\n",
       "      <th>Crime Code 4</th>\n",
       "      <th>Address</th>\n",
       "      <th>Cross Street</th>\n",
       "      <th>Location</th>\n",
       "    </tr>\n",
       "  </thead>\n",
       "  <tbody>\n",
       "    <tr>\n",
       "      <th>0</th>\n",
       "      <td>246798</td>\n",
       "      <td>100509940</td>\n",
       "      <td>2010-04-25</td>\n",
       "      <td>2010-04-25</td>\n",
       "      <td>1630</td>\n",
       "      <td>5</td>\n",
       "      <td>Harbor</td>\n",
       "      <td>529</td>\n",
       "      <td>740</td>\n",
       "      <td>VANDALISM - FELONY ($400 &amp; OVER, ALL CHURCH VA...</td>\n",
       "      <td>...</td>\n",
       "      <td>UNKNOWN WEAPON/OTHER WEAPON</td>\n",
       "      <td>IC</td>\n",
       "      <td>Invest Cont</td>\n",
       "      <td>740.0</td>\n",
       "      <td>NaN</td>\n",
       "      <td>NaN</td>\n",
       "      <td>NaN</td>\n",
       "      <td>CAL YACHT</td>\n",
       "      <td>MARINA SLIP D17</td>\n",
       "      <td>(33.7753, -118.2456)</td>\n",
       "    </tr>\n",
       "    <tr>\n",
       "      <th>1</th>\n",
       "      <td>1179557</td>\n",
       "      <td>151917155</td>\n",
       "      <td>2015-08-27</td>\n",
       "      <td>2015-08-27</td>\n",
       "      <td>430</td>\n",
       "      <td>19</td>\n",
       "      <td>Mission</td>\n",
       "      <td>1917</td>\n",
       "      <td>626</td>\n",
       "      <td>INTIMATE PARTNER - SIMPLE ASSAULT</td>\n",
       "      <td>...</td>\n",
       "      <td>STRONG-ARM (HANDS, FIST, FEET OR BODILY FORCE)</td>\n",
       "      <td>AO</td>\n",
       "      <td>Adult Other</td>\n",
       "      <td>626.0</td>\n",
       "      <td>NaN</td>\n",
       "      <td>NaN</td>\n",
       "      <td>NaN</td>\n",
       "      <td>14000    ASTORIA                      ST</td>\n",
       "      <td>NaN</td>\n",
       "      <td>(34.312, -118.4383)</td>\n",
       "    </tr>\n",
       "    <tr>\n",
       "      <th>2</th>\n",
       "      <td>1527668</td>\n",
       "      <td>172008833</td>\n",
       "      <td>2017-04-04</td>\n",
       "      <td>2017-04-03</td>\n",
       "      <td>1000</td>\n",
       "      <td>20</td>\n",
       "      <td>Olympic</td>\n",
       "      <td>2021</td>\n",
       "      <td>310</td>\n",
       "      <td>BURGLARY</td>\n",
       "      <td>...</td>\n",
       "      <td>NaN</td>\n",
       "      <td>IC</td>\n",
       "      <td>Invest Cont</td>\n",
       "      <td>310.0</td>\n",
       "      <td>NaN</td>\n",
       "      <td>NaN</td>\n",
       "      <td>NaN</td>\n",
       "      <td>500    LORRAINE                     BL</td>\n",
       "      <td>NaN</td>\n",
       "      <td>(34.0653, -118.32)</td>\n",
       "    </tr>\n",
       "    <tr>\n",
       "      <th>3</th>\n",
       "      <td>94687</td>\n",
       "      <td>101117037</td>\n",
       "      <td>2010-08-03</td>\n",
       "      <td>2010-08-02</td>\n",
       "      <td>2120</td>\n",
       "      <td>11</td>\n",
       "      <td>Northeast</td>\n",
       "      <td>1107</td>\n",
       "      <td>624</td>\n",
       "      <td>BATTERY - SIMPLE ASSAULT</td>\n",
       "      <td>...</td>\n",
       "      <td>STRONG-ARM (HANDS, FIST, FEET OR BODILY FORCE)</td>\n",
       "      <td>IC</td>\n",
       "      <td>Invest Cont</td>\n",
       "      <td>624.0</td>\n",
       "      <td>NaN</td>\n",
       "      <td>NaN</td>\n",
       "      <td>NaN</td>\n",
       "      <td>1400    HEPNER                       AV</td>\n",
       "      <td>NaN</td>\n",
       "      <td>(34.1318, -118.1957)</td>\n",
       "    </tr>\n",
       "    <tr>\n",
       "      <th>4</th>\n",
       "      <td>1376548</td>\n",
       "      <td>161711262</td>\n",
       "      <td>2016-06-02</td>\n",
       "      <td>2016-06-02</td>\n",
       "      <td>1240</td>\n",
       "      <td>17</td>\n",
       "      <td>Devonshire</td>\n",
       "      <td>1764</td>\n",
       "      <td>210</td>\n",
       "      <td>ROBBERY</td>\n",
       "      <td>...</td>\n",
       "      <td>STUN GUN</td>\n",
       "      <td>IC</td>\n",
       "      <td>Invest Cont</td>\n",
       "      <td>210.0</td>\n",
       "      <td>NaN</td>\n",
       "      <td>NaN</td>\n",
       "      <td>NaN</td>\n",
       "      <td>9300    TAMPA                        AV</td>\n",
       "      <td>NaN</td>\n",
       "      <td>(34.244, -118.5583)</td>\n",
       "    </tr>\n",
       "  </tbody>\n",
       "</table>\n",
       "<p>5 rows × 27 columns</p>\n",
       "</div>"
      ],
      "text/plain": [
       "   Unnamed: 0  DR Number Date Reported Date Occurred  Time Occurred  Area ID  \\\n",
       "0      246798  100509940    2010-04-25    2010-04-25           1630        5   \n",
       "1     1179557  151917155    2015-08-27    2015-08-27            430       19   \n",
       "2     1527668  172008833    2017-04-04    2017-04-03           1000       20   \n",
       "3       94687  101117037    2010-08-03    2010-08-02           2120       11   \n",
       "4     1376548  161711262    2016-06-02    2016-06-02           1240       17   \n",
       "\n",
       "    Area Name  Reporting District  Crime Code  \\\n",
       "0      Harbor                 529         740   \n",
       "1     Mission                1917         626   \n",
       "2     Olympic                2021         310   \n",
       "3   Northeast                1107         624   \n",
       "4  Devonshire                1764         210   \n",
       "\n",
       "                              Crime Code Description  ...  \\\n",
       "0  VANDALISM - FELONY ($400 & OVER, ALL CHURCH VA...  ...   \n",
       "1                  INTIMATE PARTNER - SIMPLE ASSAULT  ...   \n",
       "2                                           BURGLARY  ...   \n",
       "3                           BATTERY - SIMPLE ASSAULT  ...   \n",
       "4                                            ROBBERY  ...   \n",
       "\n",
       "                               Weapon Description  Status Code  \\\n",
       "0                     UNKNOWN WEAPON/OTHER WEAPON           IC   \n",
       "1  STRONG-ARM (HANDS, FIST, FEET OR BODILY FORCE)           AO   \n",
       "2                                             NaN           IC   \n",
       "3  STRONG-ARM (HANDS, FIST, FEET OR BODILY FORCE)           IC   \n",
       "4                                        STUN GUN           IC   \n",
       "\n",
       "  Status Description Crime Code 1  Crime Code 2 Crime Code 3  Crime Code 4  \\\n",
       "0        Invest Cont        740.0           NaN          NaN           NaN   \n",
       "1        Adult Other        626.0           NaN          NaN           NaN   \n",
       "2        Invest Cont        310.0           NaN          NaN           NaN   \n",
       "3        Invest Cont        624.0           NaN          NaN           NaN   \n",
       "4        Invest Cont        210.0           NaN          NaN           NaN   \n",
       "\n",
       "                                    Address     Cross Street  \\\n",
       "0                                 CAL YACHT  MARINA SLIP D17   \n",
       "1  14000    ASTORIA                      ST              NaN   \n",
       "2    500    LORRAINE                     BL              NaN   \n",
       "3   1400    HEPNER                       AV              NaN   \n",
       "4   9300    TAMPA                        AV              NaN   \n",
       "\n",
       "              Location   \n",
       "0  (33.7753, -118.2456)  \n",
       "1   (34.312, -118.4383)  \n",
       "2    (34.0653, -118.32)  \n",
       "3  (34.1318, -118.1957)  \n",
       "4   (34.244, -118.5583)  \n",
       "\n",
       "[5 rows x 27 columns]"
      ]
     },
     "execution_count": 150,
     "metadata": {},
     "output_type": "execute_result"
    }
   ],
   "source": [
    "la_crime_data[:5]"
   ]
  },
  {
   "cell_type": "markdown",
   "id": "30e79ff1",
   "metadata": {},
   "source": [
    "3. Скільки рядків і стовпців в таблиці?"
   ]
  },
  {
   "cell_type": "code",
   "execution_count": 151,
   "id": "9cc62c9e",
   "metadata": {},
   "outputs": [
    {
     "name": "stdout",
     "output_type": "stream",
     "text": [
      "Rows: 39608\n",
      "Colums: 27\n"
     ]
    }
   ],
   "source": [
    "size = la_crime_data.shape\n",
    "print('Rows:', size[0])\n",
    "print('Colums:', size[1])"
   ]
  },
  {
   "cell_type": "markdown",
   "id": "29e0a05e",
   "metadata": {},
   "source": [
    "4. Які назви стовпців?"
   ]
  },
  {
   "cell_type": "code",
   "execution_count": 152,
   "id": "ebc3051c",
   "metadata": {},
   "outputs": [
    {
     "data": {
      "text/plain": [
       "['Unnamed: 0',\n",
       " 'DR Number',\n",
       " 'Date Reported',\n",
       " 'Date Occurred',\n",
       " 'Time Occurred',\n",
       " 'Area ID',\n",
       " 'Area Name',\n",
       " 'Reporting District',\n",
       " 'Crime Code',\n",
       " 'Crime Code Description',\n",
       " 'MO Codes',\n",
       " 'Victim Age',\n",
       " 'Victim Sex',\n",
       " 'Victim Descent',\n",
       " 'Premise Code',\n",
       " 'Premise Description',\n",
       " 'Weapon Used Code',\n",
       " 'Weapon Description',\n",
       " 'Status Code',\n",
       " 'Status Description',\n",
       " 'Crime Code 1',\n",
       " 'Crime Code 2',\n",
       " 'Crime Code 3',\n",
       " 'Crime Code 4',\n",
       " 'Address',\n",
       " 'Cross Street',\n",
       " 'Location ']"
      ]
     },
     "execution_count": 152,
     "metadata": {},
     "output_type": "execute_result"
    }
   ],
   "source": [
    "column_names = la_crime_data.keys().values.tolist()\n",
    "column_names"
   ]
  },
  {
   "cell_type": "markdown",
   "id": "71488ddb",
   "metadata": {},
   "source": [
    "5. Які типи даних у різних стовпців?"
   ]
  },
  {
   "cell_type": "code",
   "execution_count": 153,
   "id": "9f103b29",
   "metadata": {},
   "outputs": [
    {
     "name": "stdout",
     "output_type": "stream",
     "text": [
      "Unnamed: 0  =  <class 'numpy.int64'>\n",
      "DR Number  =  <class 'numpy.int64'>\n",
      "Date Reported  =  <class 'str'>\n",
      "Date Occurred  =  <class 'str'>\n",
      "Time Occurred  =  <class 'numpy.int64'>\n",
      "Area ID  =  <class 'numpy.int64'>\n",
      "Area Name  =  <class 'str'>\n",
      "Reporting District  =  <class 'numpy.int64'>\n",
      "Crime Code  =  <class 'numpy.int64'>\n",
      "Crime Code Description  =  <class 'str'>\n",
      "MO Codes  =  <class 'str'>\n",
      "Victim Age  =  <class 'numpy.float64'>\n",
      "Victim Sex  =  <class 'str'>\n",
      "Victim Descent  =  <class 'str'>\n",
      "Premise Code  =  <class 'numpy.float64'>\n",
      "Premise Description  =  <class 'str'>\n",
      "Weapon Used Code  =  <class 'numpy.float64'>\n",
      "Weapon Description  =  <class 'str'>\n",
      "Status Code  =  <class 'str'>\n",
      "Status Description  =  <class 'str'>\n",
      "Crime Code 1  =  <class 'numpy.float64'>\n",
      "Crime Code 2  =  <class 'numpy.float64'>\n",
      "Crime Code 3  =  <class 'numpy.float64'>\n",
      "Crime Code 4  =  <class 'numpy.float64'>\n",
      "Address  =  <class 'str'>\n",
      "Cross Street  =  <class 'str'>\n",
      "Location   =  <class 'str'>\n"
     ]
    }
   ],
   "source": [
    "a = la_crime_data.loc[0]\n",
    "\n",
    "for i in range(len(column_names)):\n",
    "    typeRow = type( a[column_names[i]])\n",
    "    print(column_names[i],' = ',typeRow)\n"
   ]
  },
  {
   "cell_type": "markdown",
   "id": "58099663",
   "metadata": {},
   "source": [
    "6. Скільки в кожному з них унікальних значень?"
   ]
  },
  {
   "cell_type": "code",
   "execution_count": 154,
   "id": "cfba71d3",
   "metadata": {},
   "outputs": [
    {
     "name": "stdout",
     "output_type": "stream",
     "text": [
      "Unnamed: 0  had  39608  one-off values\n",
      "DR Number  had  39608  one-off values\n",
      "Date Reported  had  2  one-off values\n",
      "Date Occurred  had  0  one-off values\n",
      "Time Occurred  had  374  one-off values\n",
      "Area ID  had  0  one-off values\n",
      "Area Name  had  0  one-off values\n",
      "Reporting District  had  17  one-off values\n",
      "Crime Code  had  7  one-off values\n",
      "Crime Code Description  had  7  one-off values\n",
      "MO Codes  had  12230  one-off values\n",
      "Victim Age  had  1  one-off values\n",
      "Victim Sex  had  0  one-off values\n",
      "Victim Descent  had  3  one-off values\n",
      "Premise Code  had  30  one-off values\n",
      "Premise Description  had  19  one-off values\n",
      "Weapon Used Code  had  6  one-off values\n",
      "Weapon Description  had  6  one-off values\n",
      "Status Code  had  1  one-off values\n",
      "Status Description  had  1  one-off values\n",
      "Crime Code 1  had  7  one-off values\n",
      "Crime Code 2  had  25  one-off values\n",
      "Crime Code 3  had  4  one-off values\n",
      "Crime Code 4  had  2  one-off values\n",
      "Address  had  12181  one-off values\n",
      "Cross Street  had  1158  one-off values\n",
      "Location   had  10960  one-off values\n"
     ]
    }
   ],
   "source": [
    "for i in range(len(column_names)):\n",
    "    one_off = 0\n",
    "    col_n = column_names[i]\n",
    "    v_c = la_crime_data[col_n].value_counts()\n",
    "    # one_off = len(v_c.unique())\n",
    "    for k in v_c.values:\n",
    "        count = 1\n",
    "        if(k==1):\n",
    "            one_off += count\n",
    "    print(col_n,' had ',one_off, ' one-off values')"
   ]
  },
  {
   "cell_type": "markdown",
   "id": "d62e48dc",
   "metadata": {},
   "source": [
    "7. Скільки пропущених значень?"
   ]
  },
  {
   "cell_type": "code",
   "execution_count": 155,
   "id": "db0e16d4",
   "metadata": {},
   "outputs": [
    {
     "data": {
      "text/plain": [
       "Unnamed: 0                    0\n",
       "DR Number                     0\n",
       "Date Reported                 0\n",
       "Date Occurred                 0\n",
       "Time Occurred                 0\n",
       "Area ID                       0\n",
       "Area Name                     0\n",
       "Reporting District            0\n",
       "Crime Code                    0\n",
       "Crime Code Description        7\n",
       "MO Codes                   4291\n",
       "Victim Age                 3220\n",
       "Victim Sex                 3631\n",
       "Victim Descent             3632\n",
       "Premise Code                  3\n",
       "Premise Description          72\n",
       "Weapon Used Code          26530\n",
       "Weapon Description        26530\n",
       "Status Code                   0\n",
       "Status Description            0\n",
       "Crime Code 1                  0\n",
       "Crime Code 2              37125\n",
       "Crime Code 3              39558\n",
       "Crime Code 4              39606\n",
       "Address                       0\n",
       "Cross Street              32978\n",
       "Location                      1\n",
       "dtype: int64"
      ]
     },
     "execution_count": 155,
     "metadata": {},
     "output_type": "execute_result"
    }
   ],
   "source": [
    "la_crime_data.isnull().sum()"
   ]
  },
  {
   "cell_type": "markdown",
   "id": "c604dbcc",
   "metadata": {},
   "source": [
    "Варіант 3"
   ]
  },
  {
   "cell_type": "markdown",
   "id": "da3265d3",
   "metadata": {},
   "source": [
    "1. Визначте 10 найпоширеніших злочинів в LA. Побудуйте графік."
   ]
  },
  {
   "cell_type": "code",
   "execution_count": 156,
   "id": "e464a20b",
   "metadata": {},
   "outputs": [
    {
     "data": {
      "text/plain": [
       "BATTERY - SIMPLE ASSAULT                                        3581\n",
       "VEHICLE - STOLEN                                                3048\n",
       "BURGLARY FROM VEHICLE                                           3038\n",
       "BURGLARY                                                        2938\n",
       "THEFT PLAIN - PETTY ($950 & UNDER)                              2866\n",
       "THEFT OF IDENTITY                                               2522\n",
       "INTIMATE PARTNER - SIMPLE ASSAULT                               2147\n",
       "VANDALISM - FELONY ($400 & OVER, ALL CHURCH VANDALISMS) 0114    2027\n",
       "VANDALISM - MISDEAMEANOR ($399 OR UNDER)                        1759\n",
       "ASSAULT WITH DEADLY WEAPON, AGGRAVATED ASSAULT                  1656\n",
       "Name: Crime Code Description, dtype: int64"
      ]
     },
     "execution_count": 156,
     "metadata": {},
     "output_type": "execute_result"
    }
   ],
   "source": [
    "top10 = la_crime_data['Crime Code Description'].value_counts()\n",
    "top10[:10]"
   ]
  },
  {
   "cell_type": "code",
   "execution_count": 158,
   "id": "9af4fbe7",
   "metadata": {},
   "outputs": [
    {
     "data": {
      "text/plain": [
       "<AxesSubplot: >"
      ]
     },
     "execution_count": 158,
     "metadata": {},
     "output_type": "execute_result"
    },
    {
     "data": {
      "image/png": "[encoded data removed]",
      "text/plain": [
       "<Figure size 640x480 with 1 Axes>"
      ]
     },
     "metadata": {},
     "output_type": "display_data"
    }
   ],
   "source": [
    "top10[:10].plot(kind='bar')"
   ]
  },
  {
   "cell_type": "markdown",
   "id": "89318ccb",
   "metadata": {},
   "source": [
    "2. Від яких злочинів частіше потерпають жінки, а від яких чоловіки?"
   ]
  },
  {
   "cell_type": "code",
   "execution_count": null,
   "id": "0acb5d99",
   "metadata": {},
   "outputs": [
    {
     "name": "stdout",
     "output_type": "stream",
     "text": [
      "MALE\n"
     ]
    },
    {
     "data": {
      "text/plain": [
       "Crime Code Description\n",
       "BIKE - ATTEMPTED STOLEN                              2.0\n",
       "BATTERY ON A FIREFIGHTER                             6.0\n",
       "BATTERY WITH SEXUAL CONTACT                         23.0\n",
       "ASSAULT WITH DEADLY WEAPON ON POLICE OFFICER        25.0\n",
       "ARSON                                               41.0\n",
       "BATTERY POLICE (SIMPLE)                             78.0\n",
       "BIKE - STOLEN                                      163.0\n",
       "ATTEMPTED ROBBERY                                  176.0\n",
       "ASSAULT WITH DEADLY WEAPON, AGGRAVATED ASSAULT    1213.0\n",
       "BATTERY - SIMPLE ASSAULT                          1731.0\n",
       "Name: M, dtype: float64"
      ]
     },
     "execution_count": 126,
     "metadata": {},
     "output_type": "execute_result"
    }
   ],
   "source": [
    "crimeWithSex = la_crime_data[['Victim Sex','Crime Code Description']].pivot_table(index=[\"Crime Code Description\"], columns=[\"Victim Sex\"], aggfunc=len)\n",
    "print('MALE')\n",
    "crimeWithSex['M'][:10].sort_values()"
   ]
  },
  {
   "cell_type": "code",
   "execution_count": null,
   "id": "fba0d3d1",
   "metadata": {},
   "outputs": [
    {
     "name": "stdout",
     "output_type": "stream",
     "text": [
      "FEMALE\n"
     ]
    },
    {
     "data": {
      "text/plain": [
       "Crime Code Description\n",
       "BATTERY ON A FIREFIGHTER                             1.0\n",
       "ASSAULT WITH DEADLY WEAPON ON POLICE OFFICER         6.0\n",
       "BATTERY POLICE (SIMPLE)                             10.0\n",
       "ARSON                                               12.0\n",
       "ATTEMPTED ROBBERY                                   60.0\n",
       "BIKE - STOLEN                                       64.0\n",
       "BATTERY WITH SEXUAL CONTACT                        209.0\n",
       "ASSAULT WITH DEADLY WEAPON, AGGRAVATED ASSAULT     438.0\n",
       "BATTERY - SIMPLE ASSAULT                          1838.0\n",
       "BIKE - ATTEMPTED STOLEN                              NaN\n",
       "Name: F, dtype: float64"
      ]
     },
     "execution_count": 127,
     "metadata": {},
     "output_type": "execute_result"
    }
   ],
   "source": [
    "print('FEMALE')\n",
    "crimeWithSex['F'][:10].sort_values()"
   ]
  },
  {
   "cell_type": "markdown",
   "id": "acb24133",
   "metadata": {},
   "source": [
    "3. Люди якого походження найчастіше піддаються злочинам?"
   ]
  },
  {
   "cell_type": "code",
   "execution_count": null,
   "id": "18537f9d",
   "metadata": {},
   "outputs": [
    {
     "data": {
      "text/plain": [
       "H    13488\n",
       "Name: Victim Descent, dtype: int64"
      ]
     },
     "execution_count": 146,
     "metadata": {},
     "output_type": "execute_result"
    }
   ],
   "source": [
    "crimeWithDescent = la_crime_data['Victim Descent']\n",
    "a =  crimeWithDescent.value_counts()\n",
    "a[:1]"
   ]
  }
 ],
 "metadata": {
  "kernelspec": {
   "display_name": "Python 3.10.8 64-bit (microsoft store)",
   "language": "python",
   "name": "python3"
  },
  "language_info": {
   "codemirror_mode": {
    "name": "ipython",
    "version": 3
   },
   "file_extension": ".py",
   "mimetype": "text/x-python",
   "name": "python",
   "nbconvert_exporter": "python",
   "pygments_lexer": "ipython3",
   "version": "3.9.6"
  },
  "vscode": {
   "interpreter": {
    "hash": "dd493800006b6432b0b3c2856ed5cd809533050a49e879bdebc5a8c659a70617"
   }
  }
 },
 "nbformat": 4,
 "nbformat_minor": 5
}
