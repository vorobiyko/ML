{
 "cells": [
  {
   "cell_type": "markdown",
   "metadata": {},
   "source": [
    "# <center>Тема 8\n",
    "## <center>Рекурентні нейронні мережі"
   ]
  },
  {
   "cell_type": "markdown",
   "metadata": {},
   "source": [
    "### <center>Shkinde Ivan VAAR 3 Reviews"
   ]
  },
  {
   "cell_type": "markdown",
   "metadata": {},
   "source": [
    "Нейронні мережі прямого розповсюдження є досить ефективними моделями в завданнях аналізу часових послідовностей. Однак, суттєвим недоліком є те, що в такому випадку кожен елемент послідовності аналізується мережею окремо. Іншими словами, нейронна мережа приймає рішення на основі аналізу сукупності вхідних елементів, які ніяк між собою не пов'язані. Це призводить до втрати взаємозв'язків між елементами послідовностей, що є неприпустими у ряді випадків. Наприклад, найпростішою часовою послідовністю є текст. У тексті всі слова пов'язані між собою певним семантичним змістом. Кожне речення є не просто невпорядкованим набором слів, а складає певну цілісну змістовну конструкцію, яка дозволяє нам зрозуміти думку, що передає цей текст. Тому виникає необхідність у застосуванні таких архітектур нейронних мереж, які будуть враховувати порядок слідування елементів у послідовності. Це дозволяє зберегти характер взаємозв'язків між вхідними даними і значно покращує результат аналізу часових послідовностей.\n",
    "\n",
    "Найбільш ефективною на сьогоднішній день архітектурою нейронних мереж для аналізу послідовностей є рекурентні нейронні мережі (Recurrent Neural Networks, RNN). Це мережі, які містять зворотні зв'язки та мають внутрішню пам'ять, що дозволяє зберігати інформацію про попередні вхідні зразки. Однією з привабливих ідей RNN є те, що вони потенційно вміють пов'язувати попередню інформацію з поточним завданням. Так, наприклад, знання про попередній кадр відео можуть допомогти в розумінні поточного кадру. За останні кілька років RNN з неймовірним успіхом застосували до цілого ряду завдань: розпізнавання мови, мовне моделювання, переклад, розпізнавання зображень тощо.\n",
    "\n",
    "Однак, класичні RNN мають ряд недоліків. Основним із них є те, що такі мережі здатні пам'ятати інформацію лише про 5-10 попередніх елементів. Але, наприклад, текст зазвичай складається із більшої кількості слів. Для вирішення цієї проблеми застововуються більш складні рекурентні архітектури. Чимала роль в досягненнях RNN належить LSTM - незвичайній модифікації рекуррентної нейронної мережі, яка на багатьох задачах значно перевершує стандартну версію. Майже всі вражаючі результати RNN досягнуті саме за допомогою LSTM.\n",
    "\n",
    "Довга короткострокова пам'ять (Long short-term memory, LSTM) - особливий різновид архітектури рекурентних нейронних мереж, здатний до вивчення довготривалих залежностей. Вони прекрасно вирішують цілий ряд різноманітних завдань і в даний час широко використовуються. Однак, мережі LSTM є досить складними, тому під час їх навчання виникають деякі проблеми. Існує більш спрощений варіант даної архітектури під назвою Gated recurrent unit (GRU) - керований рекурентний нейрон.\n",
    "\n",
    "- [Дуже хороша стаття по рекурентним нейронним мережам та їх модифікаціям](https://habr.com/ru/company/wunderfund/blog/331310/)\n",
    "- [Рекурентні прошарки в Keras](https://keras.io/api/layers/recurrent_layers/)"
   ]
  },
  {
   "cell_type": "markdown",
   "metadata": {},
   "source": [
    "### <center>Підготовка набору даних"
   ]
  },
  {
   "cell_type": "markdown",
   "metadata": {},
   "source": [
    "Набір даних AG - це колекція з понад 1 мільйона текстів новин. Новини були зібрані з більш ніж 2000 джерел компанією ComeToMyHead за більш ніж 1 рік діяльності. ComeToMyHead - це академічна пошукова система новин, яка працює з липня 2004 року. Отримати додаткову інформацію можна за [посиланням](http://www.di.unipi.it/~gulli/AG_corpus_of_news_articles.html).\n",
    "\n",
    "Набір для класифікації новин за темами складається з заголовків новин, які відносяться до 4 класів (Світ/Спорт/Бізнес/Технології). Кожен клас містить 31900 навчальних зразків. Загальна кількість навчальних зразків - 127 600.\n",
    "\n",
    "- [Набір даних AG news у форматі .csv](https://github.com/mhjabreel/CharCnn_Keras/tree/master/data/ag_news_csv)"
   ]
  },
  {
   "cell_type": "markdown",
   "metadata": {},
   "source": [
    "Для початку роботи, імпортуємо необхідні модулі."
   ]
  },
  {
   "cell_type": "code",
   "execution_count": 1,
   "metadata": {},
   "outputs": [],
   "source": [
    "from tensorflow.keras.models import Sequential\n",
    "from tensorflow.keras.layers import Dense, Embedding, LSTM, GRU\n",
    "from tensorflow.keras import utils\n",
    "from tensorflow.keras.preprocessing.sequence import pad_sequences\n",
    "from tensorflow.keras.preprocessing.text import Tokenizer\n",
    "from tensorflow.keras.callbacks import ModelCheckpoint\n",
    "from tensorflow.keras import utils\n",
    "from sklearn.model_selection import train_test_split\n",
    "import pandas as pd\n",
    "import numpy as np\n",
    "import matplotlib.pyplot as plt\n",
    "import tensorflow as tf\n",
    "np.warnings.filterwarnings('ignore', category=np.VisibleDeprecationWarning) \n",
    "# Оптимізація відеокарт\n",
    "# physical_devices = tf.config.list_physical_devices('GPU') \n",
    "# tf.config.experimental.set_memory_growth(physical_devices[0], True)"
   ]
  },
  {
   "cell_type": "markdown",
   "metadata": {},
   "source": [
    "Задамо деякі початкові налаштування."
   ]
  },
  {
   "cell_type": "code",
   "execution_count": 2,
   "metadata": {},
   "outputs": [],
   "source": [
    "# Максимальна кількість слів \n",
    "num_words = 317869\n",
    "# Максимальна довжина новини\n",
    "max_news_len = 61\n",
    "# Кількість класів відгуків\n",
    "nb_classes = 3\n",
    "# Зерно датчика випадкових чисел для відтворюваності результатів\n",
    "np.random.seed(123)"
   ]
  },
  {
   "cell_type": "markdown",
   "metadata": {},
   "source": [
    "Імпортуємо набір даних."
   ]
  },
  {
   "cell_type": "code",
   "execution_count": 3,
   "metadata": {},
   "outputs": [
    {
     "data": {
      "text/html": [
       "<div>\n",
       "<style scoped>\n",
       "    .dataframe tbody tr th:only-of-type {\n",
       "        vertical-align: middle;\n",
       "    }\n",
       "\n",
       "    .dataframe tbody tr th {\n",
       "        vertical-align: top;\n",
       "    }\n",
       "\n",
       "    .dataframe thead th {\n",
       "        text-align: right;\n",
       "    }\n",
       "</style>\n",
       "<table border=\"1\" class=\"dataframe\">\n",
       "  <thead>\n",
       "    <tr style=\"text-align: right;\">\n",
       "      <th></th>\n",
       "      <th>user_name</th>\n",
       "      <th>user_location</th>\n",
       "      <th>user_description</th>\n",
       "      <th>user_created</th>\n",
       "      <th>user_followers</th>\n",
       "      <th>user_friends</th>\n",
       "      <th>user_favourites</th>\n",
       "      <th>user_verified</th>\n",
       "      <th>date</th>\n",
       "      <th>text</th>\n",
       "      <th>hashtags</th>\n",
       "      <th>source</th>\n",
       "      <th>is_retweet</th>\n",
       "      <th>Sentiment</th>\n",
       "    </tr>\n",
       "  </thead>\n",
       "  <tbody>\n",
       "    <tr>\n",
       "      <th>0</th>\n",
       "      <td>Mari Smith</td>\n",
       "      <td>San Diego, California</td>\n",
       "      <td>Premier Facebook Marketing Expert | Social Med...</td>\n",
       "      <td>2007-09-11 22:22:51</td>\n",
       "      <td>579942</td>\n",
       "      <td>288625</td>\n",
       "      <td>11610</td>\n",
       "      <td>False</td>\n",
       "      <td>2020-09-16 20:55:33</td>\n",
       "      <td>@musicmadmarc @SocialDilemma_ @netflix @Facebo...</td>\n",
       "      <td>NaN</td>\n",
       "      <td>Twitter Web App</td>\n",
       "      <td>False</td>\n",
       "      <td>Neutral</td>\n",
       "    </tr>\n",
       "    <tr>\n",
       "      <th>1</th>\n",
       "      <td>Mari Smith</td>\n",
       "      <td>San Diego, California</td>\n",
       "      <td>Premier Facebook Marketing Expert | Social Med...</td>\n",
       "      <td>2007-09-11 22:22:51</td>\n",
       "      <td>579942</td>\n",
       "      <td>288625</td>\n",
       "      <td>11610</td>\n",
       "      <td>False</td>\n",
       "      <td>2020-09-16 20:53:17</td>\n",
       "      <td>@musicmadmarc @SocialDilemma_ @netflix @Facebo...</td>\n",
       "      <td>NaN</td>\n",
       "      <td>Twitter Web App</td>\n",
       "      <td>False</td>\n",
       "      <td>Neutral</td>\n",
       "    </tr>\n",
       "    <tr>\n",
       "      <th>2</th>\n",
       "      <td>Varun Tyagi</td>\n",
       "      <td>Goa, India</td>\n",
       "      <td>Indian | Tech Solution Artist &amp; Hospitality Ex...</td>\n",
       "      <td>2009-09-06 10:36:01</td>\n",
       "      <td>257</td>\n",
       "      <td>204</td>\n",
       "      <td>475</td>\n",
       "      <td>False</td>\n",
       "      <td>2020-09-16 20:51:57</td>\n",
       "      <td>Go watch “The Social Dilemma” on Netflix!\\n\\nI...</td>\n",
       "      <td>NaN</td>\n",
       "      <td>Twitter for iPhone</td>\n",
       "      <td>False</td>\n",
       "      <td>Positive</td>\n",
       "    </tr>\n",
       "    <tr>\n",
       "      <th>3</th>\n",
       "      <td>Casey Conway</td>\n",
       "      <td>Sydney, New South Wales</td>\n",
       "      <td>Head of Diversity &amp; Inclusion @RugbyAU | It's ...</td>\n",
       "      <td>2012-12-28 21:45:06</td>\n",
       "      <td>11782</td>\n",
       "      <td>1033</td>\n",
       "      <td>12219</td>\n",
       "      <td>True</td>\n",
       "      <td>2020-09-16 20:51:46</td>\n",
       "      <td>I watched #TheSocialDilemma last night. I’m sc...</td>\n",
       "      <td>['TheSocialDilemma']</td>\n",
       "      <td>Twitter for iPhone</td>\n",
       "      <td>False</td>\n",
       "      <td>Negative</td>\n",
       "    </tr>\n",
       "    <tr>\n",
       "      <th>4</th>\n",
       "      <td>Charlotte Paul</td>\n",
       "      <td>Darlington</td>\n",
       "      <td>Instagram Charlottejyates</td>\n",
       "      <td>2012-05-28 20:43:08</td>\n",
       "      <td>278</td>\n",
       "      <td>387</td>\n",
       "      <td>5850</td>\n",
       "      <td>False</td>\n",
       "      <td>2020-09-16 20:51:11</td>\n",
       "      <td>The problem of me being on my phone most the t...</td>\n",
       "      <td>['TheSocialDilemma']</td>\n",
       "      <td>Twitter for iPhone</td>\n",
       "      <td>False</td>\n",
       "      <td>Positive</td>\n",
       "    </tr>\n",
       "  </tbody>\n",
       "</table>\n",
       "</div>"
      ],
      "text/plain": [
       "        user_name            user_location  \\\n",
       "0      Mari Smith    San Diego, California   \n",
       "1      Mari Smith    San Diego, California   \n",
       "2     Varun Tyagi               Goa, India   \n",
       "3    Casey Conway  Sydney, New South Wales   \n",
       "4  Charlotte Paul               Darlington   \n",
       "\n",
       "                                    user_description         user_created  \\\n",
       "0  Premier Facebook Marketing Expert | Social Med...  2007-09-11 22:22:51   \n",
       "1  Premier Facebook Marketing Expert | Social Med...  2007-09-11 22:22:51   \n",
       "2  Indian | Tech Solution Artist & Hospitality Ex...  2009-09-06 10:36:01   \n",
       "3  Head of Diversity & Inclusion @RugbyAU | It's ...  2012-12-28 21:45:06   \n",
       "4                          Instagram Charlottejyates  2012-05-28 20:43:08   \n",
       "\n",
       "   user_followers  user_friends  user_favourites  user_verified  \\\n",
       "0          579942        288625            11610          False   \n",
       "1          579942        288625            11610          False   \n",
       "2             257           204              475          False   \n",
       "3           11782          1033            12219           True   \n",
       "4             278           387             5850          False   \n",
       "\n",
       "                  date                                               text  \\\n",
       "0  2020-09-16 20:55:33  @musicmadmarc @SocialDilemma_ @netflix @Facebo...   \n",
       "1  2020-09-16 20:53:17  @musicmadmarc @SocialDilemma_ @netflix @Facebo...   \n",
       "2  2020-09-16 20:51:57  Go watch “The Social Dilemma” on Netflix!\\n\\nI...   \n",
       "3  2020-09-16 20:51:46  I watched #TheSocialDilemma last night. I’m sc...   \n",
       "4  2020-09-16 20:51:11  The problem of me being on my phone most the t...   \n",
       "\n",
       "               hashtags              source  is_retweet Sentiment  \n",
       "0                   NaN     Twitter Web App       False   Neutral  \n",
       "1                   NaN     Twitter Web App       False   Neutral  \n",
       "2                   NaN  Twitter for iPhone       False  Positive  \n",
       "3  ['TheSocialDilemma']  Twitter for iPhone       False  Negative  \n",
       "4  ['TheSocialDilemma']  Twitter for iPhone       False  Positive  "
      ]
     },
     "execution_count": 3,
     "metadata": {},
     "output_type": "execute_result"
    }
   ],
   "source": [
    "df = pd.read_csv(\"./theSocialDilemma.csv\", sep=\",\")\n",
    "df.head()"
   ]
  },
  {
   "cell_type": "markdown",
   "metadata": {},
   "source": [
    "Виділяємо стовпець із текстом новин для формування векторів предикторів."
   ]
  },
  {
   "cell_type": "code",
   "execution_count": 4,
   "metadata": {},
   "outputs": [
    {
     "data": {
      "text/plain": [
       "0    @musicmadmarc @SocialDilemma_ @netflix @Facebo...\n",
       "1    @musicmadmarc @SocialDilemma_ @netflix @Facebo...\n",
       "2    Go watch “The Social Dilemma” on Netflix!\\n\\nI...\n",
       "3    I watched #TheSocialDilemma last night. I’m sc...\n",
       "4    The problem of me being on my phone most the t...\n",
       "Name: text, dtype: object"
      ]
     },
     "execution_count": 4,
     "metadata": {},
     "output_type": "execute_result"
    }
   ],
   "source": [
    "news = df['text']\n",
    "news.head()"
   ]
  },
  {
   "cell_type": "markdown",
   "metadata": {},
   "source": [
    "Виділяємо стовпець із номерами класів для формування векторів цілей."
   ]
  },
  {
   "cell_type": "code",
   "execution_count": 5,
   "metadata": {},
   "outputs": [
    {
     "data": {
      "text/plain": [
       "0     Neutral\n",
       "1     Neutral\n",
       "2    Positive\n",
       "3    Negative\n",
       "4    Positive\n",
       "Name: Sentiment, dtype: object"
      ]
     },
     "execution_count": 5,
     "metadata": {},
     "output_type": "execute_result"
    }
   ],
   "source": [
    "classes = df['Sentiment']\n",
    "classes.head()"
   ]
  },
  {
   "cell_type": "markdown",
   "metadata": {},
   "source": [
    "Перетворюємо номери класів до формату one hot encoding."
   ]
  },
  {
   "cell_type": "code",
   "execution_count": 6,
   "metadata": {},
   "outputs": [
    {
     "data": {
      "text/html": [
       "<div>\n",
       "<style scoped>\n",
       "    .dataframe tbody tr th:only-of-type {\n",
       "        vertical-align: middle;\n",
       "    }\n",
       "\n",
       "    .dataframe tbody tr th {\n",
       "        vertical-align: top;\n",
       "    }\n",
       "\n",
       "    .dataframe thead th {\n",
       "        text-align: right;\n",
       "    }\n",
       "</style>\n",
       "<table border=\"1\" class=\"dataframe\">\n",
       "  <thead>\n",
       "    <tr style=\"text-align: right;\">\n",
       "      <th></th>\n",
       "      <th>Class_Negative</th>\n",
       "      <th>Class_Neutral</th>\n",
       "      <th>Class_Positive</th>\n",
       "    </tr>\n",
       "  </thead>\n",
       "  <tbody>\n",
       "    <tr>\n",
       "      <th>0</th>\n",
       "      <td>0</td>\n",
       "      <td>1</td>\n",
       "      <td>0</td>\n",
       "    </tr>\n",
       "    <tr>\n",
       "      <th>1</th>\n",
       "      <td>0</td>\n",
       "      <td>1</td>\n",
       "      <td>0</td>\n",
       "    </tr>\n",
       "    <tr>\n",
       "      <th>2</th>\n",
       "      <td>0</td>\n",
       "      <td>0</td>\n",
       "      <td>1</td>\n",
       "    </tr>\n",
       "    <tr>\n",
       "      <th>3</th>\n",
       "      <td>1</td>\n",
       "      <td>0</td>\n",
       "      <td>0</td>\n",
       "    </tr>\n",
       "    <tr>\n",
       "      <th>4</th>\n",
       "      <td>0</td>\n",
       "      <td>0</td>\n",
       "      <td>1</td>\n",
       "    </tr>\n",
       "  </tbody>\n",
       "</table>\n",
       "</div>"
      ],
      "text/plain": [
       "   Class_Negative  Class_Neutral  Class_Positive\n",
       "0               0              1               0\n",
       "1               0              1               0\n",
       "2               0              0               1\n",
       "3               1              0               0\n",
       "4               0              0               1"
      ]
     },
     "execution_count": 6,
     "metadata": {},
     "output_type": "execute_result"
    }
   ],
   "source": [
    "classes = pd.get_dummies(classes, prefix='Class')\n",
    "classes.head()"
   ]
  },
  {
   "cell_type": "markdown",
   "metadata": {},
   "source": [
    "Переводимо створені набори даних до формати масивів numpy."
   ]
  },
  {
   "cell_type": "code",
   "execution_count": 7,
   "metadata": {},
   "outputs": [],
   "source": [
    "news = news.values\n",
    "classes = classes.values"
   ]
  },
  {
   "cell_type": "markdown",
   "metadata": {},
   "source": [
    "Розділяємо отримані набори на навчальну та тестову вибірки."
   ]
  },
  {
   "cell_type": "code",
   "execution_count": 8,
   "metadata": {},
   "outputs": [],
   "source": [
    "news_train, news_test, y_train, y_test = train_test_split(news, classes, test_size=0.1)"
   ]
  },
  {
   "cell_type": "markdown",
   "metadata": {},
   "source": [
    "Створюємо токенізатор Keras для подання тексту у форматі частотного кодування. Для цього використовується спеціальний клас *Tokenizer*, який дозволяє автоматично створити словник частотного подання слів. В якості параметру під час створення токенізатора вказується максимальна кількість слів `num_words` - до словника буде входити лише вказана кількість слів. Слова, які зустрічаються дуже рідко не увійдуть до словника і будуть видалені із тексту під час формування його векторного подання.\n",
    "- [Детальніше про токенізатор в Keras](https://www.tensorflow.org/api_docs/python/tf/keras/preprocessing/text/Tokenizer)"
   ]
  },
  {
   "cell_type": "code",
   "execution_count": 9,
   "metadata": {},
   "outputs": [],
   "source": [
    "tokenizer = Tokenizer(num_words=num_words)"
   ]
  },
  {
   "cell_type": "markdown",
   "metadata": {},
   "source": [
    "Навчаємо токенізатор на текстах новин."
   ]
  },
  {
   "cell_type": "code",
   "execution_count": 10,
   "metadata": {},
   "outputs": [],
   "source": [
    "tokenizer.fit_on_texts(news_train)"
   ]
  },
  {
   "cell_type": "markdown",
   "metadata": {},
   "source": [
    "Переглядаємо сформований словник токенізатора."
   ]
  },
  {
   "cell_type": "code",
   "execution_count": 11,
   "metadata": {
    "scrolled": true
   },
   "outputs": [
    {
     "data": {
      "text/plain": [
       "{'thesocialdilemma': 1,\n",
       " 't': 2,\n",
       " 'co': 3,\n",
       " 'https': 4,\n",
       " 'the': 5,\n",
       " 'to': 6,\n",
       " 'on': 7,\n",
       " 'and': 8,\n",
       " 'i': 9,\n",
       " 'a': 10,\n",
       " 'is': 11,\n",
       " 'netflix': 12,\n",
       " 'social': 13,\n",
       " 'you': 14,\n",
       " 'watch': 15,\n",
       " 'of': 16,\n",
       " 'it': 17,\n",
       " 'this': 18,\n",
       " 'media': 19,\n",
       " 'in': 20,\n",
       " 'are': 21,\n",
       " 'for': 22,\n",
       " 'that': 23,\n",
       " 'watching': 24,\n",
       " 'watched': 25,\n",
       " 'we': 26,\n",
       " 'my': 27,\n",
       " 'about': 28,\n",
       " 'if': 29,\n",
       " 'just': 30,\n",
       " 'documentary': 31,\n",
       " 'not': 32,\n",
       " 'how': 33,\n",
       " 'have': 34,\n",
       " 'but': 35,\n",
       " 'dilemma': 36,\n",
       " 'all': 37,\n",
       " 'me': 38,\n",
       " 'must': 39,\n",
       " 'what': 40,\n",
       " 'with': 41,\n",
       " 'be': 42,\n",
       " 'product': 43,\n",
       " 'your': 44,\n",
       " 'so': 45,\n",
       " 'everyone': 46,\n",
       " 'now': 47,\n",
       " 'do': 48,\n",
       " 'from': 49,\n",
       " 'as': 50,\n",
       " 'twitter': 51,\n",
       " 'an': 52,\n",
       " 'has': 53,\n",
       " 'was': 54,\n",
       " 'after': 55,\n",
       " 'know': 56,\n",
       " 'people': 57,\n",
       " 'our': 58,\n",
       " 'like': 59,\n",
       " \"it's\": 60,\n",
       " 'it’s': 61,\n",
       " 'should': 62,\n",
       " '…': 63,\n",
       " 'amp': 64,\n",
       " 'out': 65,\n",
       " 'then': 66,\n",
       " 'by': 67,\n",
       " 'time': 68,\n",
       " 'at': 69,\n",
       " 'up': 70,\n",
       " 'one': 71,\n",
       " 'us': 72,\n",
       " 'more': 73,\n",
       " 'or': 74,\n",
       " 'facebook': 75,\n",
       " 'they': 76,\n",
       " 'think': 77,\n",
       " 'really': 78,\n",
       " 'see': 79,\n",
       " 'who': 80,\n",
       " 'i’m': 81,\n",
       " 'their': 82,\n",
       " 'been': 83,\n",
       " 'can': 84,\n",
       " 'will': 85,\n",
       " 'only': 86,\n",
       " 'paying': 87,\n",
       " 'recommend': 88,\n",
       " 'when': 89,\n",
       " 'need': 90,\n",
       " 'go': 91,\n",
       " 'tech': 92,\n",
       " 'very': 93,\n",
       " 'please': 94,\n",
       " 'off': 95,\n",
       " \"i'm\": 96,\n",
       " 'there': 97,\n",
       " 'phone': 98,\n",
       " 'eye': 99,\n",
       " 'being': 100,\n",
       " 'get': 101,\n",
       " 'good': 102,\n",
       " 'want': 103,\n",
       " 'am': 104,\n",
       " 'highly': 105,\n",
       " 'some': 106,\n",
       " 'most': 107,\n",
       " '2': 108,\n",
       " 'than': 109,\n",
       " 'why': 110,\n",
       " 'over': 111,\n",
       " 'these': 112,\n",
       " 'news': 113,\n",
       " 'technology': 114,\n",
       " 'you’re': 115,\n",
       " 'kids': 116,\n",
       " '1': 117,\n",
       " 'world': 118,\n",
       " 'last': 119,\n",
       " 'don’t': 120,\n",
       " 'socialdilemma': 121,\n",
       " \"don't\": 122,\n",
       " 'right': 123,\n",
       " 'great': 124,\n",
       " 'important': 125,\n",
       " 'scary': 126,\n",
       " \"you're\": 127,\n",
       " 'irony': 128,\n",
       " 'new': 129,\n",
       " 'tristanharris': 130,\n",
       " 'two': 131,\n",
       " 'much': 132,\n",
       " 'seen': 133,\n",
       " '”': 134,\n",
       " 'finished': 135,\n",
       " 'matrix': 136,\n",
       " 'into': 137,\n",
       " 'already': 138,\n",
       " 'ourpact': 139,\n",
       " 'needs': 140,\n",
       " 'yet': 141,\n",
       " 'thing': 142,\n",
       " 'while': 143,\n",
       " 'online': 144,\n",
       " 'its': 145,\n",
       " 'because': 146,\n",
       " 'call': 147,\n",
       " 'even': 148,\n",
       " 'would': 149,\n",
       " 'make': 150,\n",
       " 'netflixindia': 151,\n",
       " 'also': 152,\n",
       " 'interesting': 153,\n",
       " 'here': 154,\n",
       " 'well': 155,\n",
       " 'every': 156,\n",
       " 'movie': 157,\n",
       " 'use': 158,\n",
       " 'notifications': 159,\n",
       " 'mind': 160,\n",
       " 'thought': 161,\n",
       " 'going': 162,\n",
       " 'customers': 163,\n",
       " 'way': 164,\n",
       " 'industries': 165,\n",
       " 'real': 166,\n",
       " 'no': 167,\n",
       " 'night': 168,\n",
       " 'feel': 169,\n",
       " 'opening': 170,\n",
       " 'take': 171,\n",
       " 'did': 172,\n",
       " 'using': 173,\n",
       " 'anyone': 174,\n",
       " 'drugs': 175,\n",
       " 'socialmedia': 176,\n",
       " 'film': 177,\n",
       " 'life': 178,\n",
       " 'tweet': 179,\n",
       " 'check': 180,\n",
       " 'true': 181,\n",
       " 'say': 182,\n",
       " 'worth': 183,\n",
       " 'made': 184,\n",
       " 'which': 185,\n",
       " 'many': 186,\n",
       " 'wow': 187,\n",
       " 'things': 188,\n",
       " 'keeping': 189,\n",
       " 'illegal': 190,\n",
       " 'safe': 191,\n",
       " 'companies': 192,\n",
       " 'change': 193,\n",
       " 'data': 194,\n",
       " 'instagram': 195,\n",
       " 'software': 196,\n",
       " 'wake': 197,\n",
       " 'something': 198,\n",
       " 't…': 199,\n",
       " 'everything': 200,\n",
       " 'got': 201,\n",
       " 'today': 202,\n",
       " 'too': 203,\n",
       " 'a…': 204,\n",
       " 'makes': 205,\n",
       " 'delete': 206,\n",
       " 'before': 207,\n",
       " 'had': 208,\n",
       " 'times': 209,\n",
       " 'truth': 210,\n",
       " 'own': 211,\n",
       " 'ever': 212,\n",
       " 'lot': 213,\n",
       " 'fake': 214,\n",
       " 'haven’t': 215,\n",
       " 'opener': 216,\n",
       " 'i’ve': 217,\n",
       " 'still': 218,\n",
       " 'apps': 219,\n",
       " 'recommended': 220,\n",
       " 'google': 221,\n",
       " 'internet': 222,\n",
       " 'back': 223,\n",
       " 'definitely': 224,\n",
       " 'million': 225,\n",
       " 'same': 226,\n",
       " 'any': 227,\n",
       " 'down': 228,\n",
       " '“the': 229,\n",
       " 'look': 230,\n",
       " 'the…': 231,\n",
       " 'ironic': 232,\n",
       " 'platforms': 233,\n",
       " 'other': 234,\n",
       " 'best': 235,\n",
       " 'thinking': 236,\n",
       " 'never': 237,\n",
       " 'thoughts': 238,\n",
       " 'human': 239,\n",
       " 'doc': 240,\n",
       " 'those': 241,\n",
       " 'understand': 242,\n",
       " 'read': 243,\n",
       " 'shit': 244,\n",
       " 'knew': 245,\n",
       " 'yes': 246,\n",
       " 'doing': 247,\n",
       " 'families': 248,\n",
       " \"i've\": 249,\n",
       " '“if': 250,\n",
       " 'without': 251,\n",
       " 'where': 252,\n",
       " 'algorithms': 253,\n",
       " 'such': 254,\n",
       " 'attention': 255,\n",
       " 'work': 256,\n",
       " 'were': 257,\n",
       " 'post': 258,\n",
       " 'faster': 259,\n",
       " 'said': 260,\n",
       " '🤯': 261,\n",
       " 'actually': 262,\n",
       " 'tweeting': 263,\n",
       " 'big': 264,\n",
       " 'i…': 265,\n",
       " 'problem': 266,\n",
       " 'ai': 267,\n",
       " 'terrifying': 268,\n",
       " 'them': 269,\n",
       " 'first': 270,\n",
       " 'dilemma”': 271,\n",
       " 'show': 272,\n",
       " 'through': 273,\n",
       " 'part': 274,\n",
       " 'th…': 275,\n",
       " 'addiction': 276,\n",
       " 'stop': 277,\n",
       " 'society': 278,\n",
       " 'digital': 279,\n",
       " 'users': 280,\n",
       " 'stuff': 281,\n",
       " 'agree': 282,\n",
       " 'better': 283,\n",
       " 'day': 284,\n",
       " 'love': 285,\n",
       " 'away': 286,\n",
       " 'information': 287,\n",
       " 'aware': 288,\n",
       " 'posting': 289,\n",
       " 'finally': 290,\n",
       " 'could': 291,\n",
       " 'getting': 292,\n",
       " \"we're\": 293,\n",
       " 'thesocialdilemma…': 294,\n",
       " 'minutes': 295,\n",
       " 'give': 296,\n",
       " 'especially': 297,\n",
       " '3': 298,\n",
       " 'we’re': 299,\n",
       " 'put': 300,\n",
       " 'always': 301,\n",
       " 'years': 302,\n",
       " 'having': 303,\n",
       " 'turn': 304,\n",
       " 'nothing': 305,\n",
       " 'guys': 306,\n",
       " 'live': 307,\n",
       " 'fb': 308,\n",
       " 'making': 309,\n",
       " 'does': 310,\n",
       " '10': 311,\n",
       " 'screen': 312,\n",
       " 'may': 313,\n",
       " 'keep': 314,\n",
       " 'talking': 315,\n",
       " 'yourself': 316,\n",
       " 'let': 317,\n",
       " 'thread': 318,\n",
       " '2020': 319,\n",
       " 'control': 320,\n",
       " 'thanks': 321,\n",
       " 'absolutely': 322,\n",
       " 'believe': 323,\n",
       " 'turned': 324,\n",
       " \"haven't\": 325,\n",
       " 'come': 326,\n",
       " 'saw': 327,\n",
       " 'sure': 328,\n",
       " 'youtube': 329,\n",
       " 'few': 330,\n",
       " 'started': 331,\n",
       " 'talk': 332,\n",
       " 'can’t': 333,\n",
       " 'edward': 334,\n",
       " 'review': 335,\n",
       " 'deleted': 336,\n",
       " 'y’all': 337,\n",
       " 'spreads': 338,\n",
       " 'used': 339,\n",
       " '“there': 340,\n",
       " 'gonna': 341,\n",
       " 'amazing': 342,\n",
       " 'bad': 343,\n",
       " 'around': 344,\n",
       " 'pretty': 345,\n",
       " 'long': 346,\n",
       " 'scared': 347,\n",
       " 'manipulation': 348,\n",
       " 's…': 349,\n",
       " 'another': 350,\n",
       " 'oh': 351,\n",
       " 'someone': 352,\n",
       " \"that's\": 353,\n",
       " 'tell': 354,\n",
       " 'thank': 355,\n",
       " 'app': 356,\n",
       " 'addicted': 357,\n",
       " 'done': 358,\n",
       " 'account': 359,\n",
       " 'manipulated': 360,\n",
       " 'else': 361,\n",
       " 'algorithm': 362,\n",
       " 'impact': 363,\n",
       " 'might': 364,\n",
       " 'to…': 365,\n",
       " 'saying': 366,\n",
       " 'provoking': 367,\n",
       " 'probably': 368,\n",
       " 'week': 369,\n",
       " 'o…': 370,\n",
       " '5': 371,\n",
       " 'and…': 372,\n",
       " 'since': 373,\n",
       " 'reality': 374,\n",
       " 'created': 375,\n",
       " 'free': 376,\n",
       " 'powerful': 377,\n",
       " '‘users’': 378,\n",
       " 'bit': 379,\n",
       " 'side': 380,\n",
       " 'whole': 381,\n",
       " 'again': 382,\n",
       " 'year': 383,\n",
       " 'deleting': 384,\n",
       " 'find': 385,\n",
       " \"'the\": 386,\n",
       " 'fact': 387,\n",
       " 'accounts': 388,\n",
       " \"can't\": 389,\n",
       " 'point': 390,\n",
       " 'explains': 391,\n",
       " 'w…': 392,\n",
       " 'u': 393,\n",
       " 'share': 394,\n",
       " 'platform': 395,\n",
       " 'person': 396,\n",
       " 'documentaries': 397,\n",
       " 'end': 398,\n",
       " 'seriously': 399,\n",
       " \"netflix's\": 400,\n",
       " 'next': 401,\n",
       " 'horror': 402,\n",
       " '😳': 403,\n",
       " 'everybody': 404,\n",
       " 'viewing': 405,\n",
       " 'age': 406,\n",
       " 'product”': 407,\n",
       " 'm…': 408,\n",
       " 'shows': 409,\n",
       " 'tufte': 410,\n",
       " 'seeing': 411,\n",
       " 'in…': 412,\n",
       " 'start': 413,\n",
       " 'weekend': 414,\n",
       " 'brilliant': 415,\n",
       " \"didn't\": 416,\n",
       " 'follow': 417,\n",
       " 'sense': 418,\n",
       " 'anything': 419,\n",
       " '6': 420,\n",
       " 'damn': 421,\n",
       " 'crazy': 422,\n",
       " 'man': 423,\n",
       " 'fascinating': 424,\n",
       " 'happening': 425,\n",
       " 'help': 426,\n",
       " 'enough': 427,\n",
       " 'taking': 428,\n",
       " 'behavior': 429,\n",
       " 'industry': 430,\n",
       " 'tonight': 431,\n",
       " \"'users'\": 432,\n",
       " 'content': 433,\n",
       " 'ago': 434,\n",
       " 'days': 435,\n",
       " 'based': 436,\n",
       " 'though': 437,\n",
       " 'literally': 438,\n",
       " 'behind': 439,\n",
       " 'privacy': 440,\n",
       " 'less': 441,\n",
       " 'maybe': 442,\n",
       " \"what's\": 443,\n",
       " \"dilemma'\": 444,\n",
       " 'black': 445,\n",
       " 'myself': 446,\n",
       " 'seems': 447,\n",
       " 'yesterday': 448,\n",
       " 'blown': 449,\n",
       " 'his': 450,\n",
       " 'lol': 451,\n",
       " 'tool': 452,\n",
       " 'on…': 453,\n",
       " 'episode': 454,\n",
       " 'that’s': 455,\n",
       " '👀': 456,\n",
       " 'business': 457,\n",
       " 'kind': 458,\n",
       " 'little': 459,\n",
       " 'living': 460,\n",
       " 'friends': 461,\n",
       " 'different': 462,\n",
       " 'listen': 463,\n",
       " 'looking': 464,\n",
       " 'realize': 465,\n",
       " 'gradual': 466,\n",
       " 'of…': 467,\n",
       " 'family': 468,\n",
       " 'trying': 469,\n",
       " 'humanity': 470,\n",
       " 'worst': 471,\n",
       " 'six': 472,\n",
       " 'hear': 473,\n",
       " 'vast': 474,\n",
       " 'quote': 475,\n",
       " 'he': 476,\n",
       " 'question': 477,\n",
       " 'white': 478,\n",
       " 'generation': 479,\n",
       " 'didn’t': 480,\n",
       " 'existential': 481,\n",
       " 'threat': 482,\n",
       " 'lives': 483,\n",
       " 'both': 484,\n",
       " 'feels': 485,\n",
       " 'feeling': 486,\n",
       " 'watch…': 487,\n",
       " 'blowing': 488,\n",
       " 'power': 489,\n",
       " 'wanna': 490,\n",
       " 'truly': 491,\n",
       " 'hope': 492,\n",
       " 'netflixuk': 493,\n",
       " 'enters': 494,\n",
       " 'excellent': 495,\n",
       " 'morning': 496,\n",
       " 'phones': 497,\n",
       " 'tristan': 498,\n",
       " 'an…': 499,\n",
       " 'drug': 500,\n",
       " 'slight': 501,\n",
       " 'mortals': 502,\n",
       " 'lost': 503,\n",
       " 'd…': 504,\n",
       " 'telling': 505,\n",
       " 'what’s': 506,\n",
       " 'scrolling': 507,\n",
       " 'feed': 508,\n",
       " 'felt': 509,\n",
       " 'lab': 510,\n",
       " 'ok': 511,\n",
       " 'dark': 512,\n",
       " '🤔': 513,\n",
       " 'via': 514,\n",
       " '—': 515,\n",
       " 'fucking': 516,\n",
       " 'quite': 517,\n",
       " 'half': 518,\n",
       " 'surprised': 519,\n",
       " \"there's\": 520,\n",
       " 'learn': 521,\n",
       " 'parents': 522,\n",
       " 'reading': 523,\n",
       " 'money': 524,\n",
       " 'netflix’s': 525,\n",
       " 'conversation': 526,\n",
       " 'bring': 527,\n",
       " 'immediately': 528,\n",
       " 'facts': 529,\n",
       " 'fuck': 530,\n",
       " 'future': 531,\n",
       " 'far': 532,\n",
       " 'whether': 533,\n",
       " 'false': 534,\n",
       " 'eyes': 535,\n",
       " 'imperceptible': 536,\n",
       " 'issues': 537,\n",
       " 'spread': 538,\n",
       " 'glad': 539,\n",
       " 'video': 540,\n",
       " 'docu': 541,\n",
       " 'currently': 542,\n",
       " '😂': 543,\n",
       " 'once': 544,\n",
       " 'pay': 545,\n",
       " 'become': 546,\n",
       " 'holy': 547,\n",
       " 'trending': 548,\n",
       " 'c…': 549,\n",
       " 'hour': 550,\n",
       " 'open': 551,\n",
       " 'isn’t': 552,\n",
       " 'super': 553,\n",
       " 'f…': 554,\n",
       " 'humanetech': 555,\n",
       " '“how': 556,\n",
       " 'came': 557,\n",
       " 'sharing': 558,\n",
       " 'each': 559,\n",
       " 'ads': 560,\n",
       " 'former': 561,\n",
       " 'left': 562,\n",
       " 'informative': 563,\n",
       " 'there’s': 564,\n",
       " 'perception': 565,\n",
       " 'mean': 566,\n",
       " 'single': 567,\n",
       " 'podcast': 568,\n",
       " '‘the': 569,\n",
       " 'hey': 570,\n",
       " 'against': 571,\n",
       " 'okay': 572,\n",
       " 'try': 573,\n",
       " 'hard': 574,\n",
       " 'points': 575,\n",
       " 'capitalism': 576,\n",
       " 'you…': 577,\n",
       " 'moment': 578,\n",
       " 'disturbing': 579,\n",
       " 'history': 580,\n",
       " 'tiktok': 581,\n",
       " 'called': 582,\n",
       " 'thegreathack': 583,\n",
       " 'advertising': 584,\n",
       " 'completely': 585,\n",
       " 'spend': 586,\n",
       " 'it…': 587,\n",
       " 'entire': 588,\n",
       " 'user': 589,\n",
       " 'curse': 590,\n",
       " 'break': 591,\n",
       " \"isn't\": 592,\n",
       " 'uses': 593,\n",
       " 'top': 594,\n",
       " 'decided': 595,\n",
       " 'wonder': 596,\n",
       " 'recommendation': 597,\n",
       " 'insight': 598,\n",
       " 'h…': 599,\n",
       " \"here's\": 600,\n",
       " 'join': 601,\n",
       " 'recommending': 602,\n",
       " 'critics': 603,\n",
       " 'sm': 604,\n",
       " '“': 605,\n",
       " 'totally': 606,\n",
       " 'honestly': 607,\n",
       " 'until': 608,\n",
       " 'exactly': 609,\n",
       " 'hours': 610,\n",
       " 'self': 611,\n",
       " 'netflix…': 612,\n",
       " 'says': 613,\n",
       " 'wrong': 614,\n",
       " 'b…': 615,\n",
       " 'mustwatch': 616,\n",
       " 'asap': 617,\n",
       " 'children': 618,\n",
       " 'job': 619,\n",
       " 'study': 620,\n",
       " 'article': 621,\n",
       " 'profit': 622,\n",
       " 'psychology': 623,\n",
       " 'works': 624,\n",
       " 'disinformation': 625,\n",
       " 'almost': 626,\n",
       " 'basically': 627,\n",
       " 'story': 628,\n",
       " 'found': 629,\n",
       " 'dilemma’': 630,\n",
       " 'deep': 631,\n",
       " 'coming': 632,\n",
       " 'drama': 633,\n",
       " \"let's\": 634,\n",
       " 'manipulate': 635,\n",
       " 'ability': 636,\n",
       " '20': 637,\n",
       " 'god': 638,\n",
       " 'etc': 639,\n",
       " 'essential': 640,\n",
       " \"doesn't\": 641,\n",
       " 'reason': 642,\n",
       " 'urge': 643,\n",
       " 'let’s': 644,\n",
       " 'soon': 645,\n",
       " 'country': 646,\n",
       " 'opinion': 647,\n",
       " 'strongly': 648,\n",
       " 'problems': 649,\n",
       " 'dangerous': 650,\n",
       " 'goes': 651,\n",
       " 'current': 652,\n",
       " 'least': 653,\n",
       " 'checking': 654,\n",
       " 'sophocles': 655,\n",
       " 'they’re': 656,\n",
       " 'loved': 657,\n",
       " 'democracy': 658,\n",
       " 'message': 659,\n",
       " 'discussion': 660,\n",
       " 'idea': 661,\n",
       " \"you've\": 662,\n",
       " 'harris': 663,\n",
       " 'between': 664,\n",
       " 'manipulating': 665,\n",
       " 'n': 666,\n",
       " 'turning': 667,\n",
       " 'course': 668,\n",
       " 'silicon': 669,\n",
       " 'conspiracy': 670,\n",
       " 'me…': 671,\n",
       " 'rats': 672,\n",
       " 'p…': 673,\n",
       " 'changing': 674,\n",
       " 'opinions': 675,\n",
       " 'guy': 676,\n",
       " 'working': 677,\n",
       " 'giants': 678,\n",
       " 'funny': 679,\n",
       " 'search': 680,\n",
       " 'took': 681,\n",
       " 'old': 682,\n",
       " 'serious': 683,\n",
       " '4': 684,\n",
       " 'questions': 685,\n",
       " 'insightful': 686,\n",
       " 'knows': 687,\n",
       " 'ig': 688,\n",
       " 'extremely': 689,\n",
       " 'india': 690,\n",
       " 'gotta': 691,\n",
       " 'controls': 692,\n",
       " 'model': 693,\n",
       " 'wild': 694,\n",
       " 'products': 695,\n",
       " 'fucked': 696,\n",
       " 'care': 697,\n",
       " 'mental': 698,\n",
       " 'tweets': 699,\n",
       " 's': 700,\n",
       " 'instead': 701,\n",
       " 'frightening': 702,\n",
       " 'mirror': 703,\n",
       " 'yeah': 704,\n",
       " 'system': 705,\n",
       " 'dont': 706,\n",
       " 'starting': 707,\n",
       " 'action': 708,\n",
       " 'dangers': 709,\n",
       " 'experts': 710,\n",
       " 'you’ll': 711,\n",
       " 'accept': 712,\n",
       " 'for…': 713,\n",
       " 'create': 714,\n",
       " 'cause': 715,\n",
       " 'valley': 716,\n",
       " 'ready': 717,\n",
       " 'remember': 718,\n",
       " 'political': 719,\n",
       " 'awareness': 720,\n",
       " 'full': 721,\n",
       " 'folks': 722,\n",
       " 'design': 723,\n",
       " 'propaganda': 724,\n",
       " 'designed': 725,\n",
       " 'itself': 726,\n",
       " 'required': 727,\n",
       " 'suggest': 728,\n",
       " 'marketing': 729,\n",
       " 'addictive': 730,\n",
       " 'view': 731,\n",
       " 'health': 732,\n",
       " '“it’s': 733,\n",
       " 'sold': 734,\n",
       " 'favor': 735,\n",
       " 'effects': 736,\n",
       " 'cannot': 737,\n",
       " 'so…': 738,\n",
       " 'happy': 739,\n",
       " 'i’ll': 740,\n",
       " 'issue': 741,\n",
       " 'words': 742,\n",
       " 'networks': 743,\n",
       " 'smart': 744,\n",
       " 'wish': 745,\n",
       " 'needed': 746,\n",
       " '7': 747,\n",
       " 'omg': 748,\n",
       " 'snapchat': 749,\n",
       " 'ask': 750,\n",
       " 'guess': 751,\n",
       " 'run': 752,\n",
       " 'ppl': 753,\n",
       " 'dead': 754,\n",
       " 'alive': 755,\n",
       " 'hate': 756,\n",
       " 'wanted': 757,\n",
       " 'ways': 758,\n",
       " 'creators': 759,\n",
       " 'her': 760,\n",
       " 'media…': 761,\n",
       " 'is…': 762,\n",
       " 're': 763,\n",
       " 'that…': 764,\n",
       " 'piece': 765,\n",
       " 'talks': 766,\n",
       " 'together': 767,\n",
       " 'hell': 768,\n",
       " 'encourage': 769,\n",
       " 'absolute': 770,\n",
       " 'sad': 771,\n",
       " 'others': 772,\n",
       " 'usage': 773,\n",
       " 'misinformation': 774,\n",
       " 'heard': 775,\n",
       " 'behaviour': 776,\n",
       " 'trust': 777,\n",
       " 'fear': 778,\n",
       " \"won't\": 779,\n",
       " 'movies': 780,\n",
       " 'notification': 781,\n",
       " 'high': 782,\n",
       " 'terrified': 783,\n",
       " '😱': 784,\n",
       " 'scariest': 785,\n",
       " 'possible': 786,\n",
       " 'wondering': 787,\n",
       " 'recently': 788,\n",
       " 'y…': 789,\n",
       " 'book': 790,\n",
       " 'docudrama': 791,\n",
       " 'short': 792,\n",
       " 'anxiety': 793,\n",
       " \"you'll\": 794,\n",
       " '“we': 795,\n",
       " 'shocked': 796,\n",
       " 'men': 797,\n",
       " 'w': 798,\n",
       " 'latest': 799,\n",
       " 'humans': 800,\n",
       " \"aren't\": 801,\n",
       " \"y'all\": 802,\n",
       " 'utopia': 803,\n",
       " 'ironically': 804,\n",
       " 'throw': 805,\n",
       " 'doesn’t': 806,\n",
       " 'gone': 807,\n",
       " 'showing': 808,\n",
       " 'controlling': 809,\n",
       " 'advertisers': 810,\n",
       " 'be…': 811,\n",
       " 'kinda': 812,\n",
       " 'place': 813,\n",
       " 'hit': 814,\n",
       " 'perspective': 815,\n",
       " 'e…': 816,\n",
       " 'refer': 817,\n",
       " 'key': 818,\n",
       " \"i'll\": 819,\n",
       " 'miss': 820,\n",
       " 'mad': 821,\n",
       " 'gt': 822,\n",
       " 'tv': 823,\n",
       " 'past': 824,\n",
       " 'war': 825,\n",
       " 'quit': 826,\n",
       " 'weird': 827,\n",
       " 'ad': 828,\n",
       " 'incredible': 829,\n",
       " 'influence': 830,\n",
       " 'second': 831,\n",
       " 'pls': 832,\n",
       " 'towards': 833,\n",
       " 'wait': 834,\n",
       " 'although': 835,\n",
       " 'realise': 836,\n",
       " 'looks': 837,\n",
       " 'i’d': 838,\n",
       " '100': 839,\n",
       " 'solution': 840,\n",
       " 'step': 841,\n",
       " 'comes': 842,\n",
       " 'surveillance': 843,\n",
       " 'info': 844,\n",
       " 'tools': 845,\n",
       " 'e': 846,\n",
       " 'means': 847,\n",
       " 'told': 848,\n",
       " 'level': 849,\n",
       " 'worried': 850,\n",
       " 'im': 851,\n",
       " 'line': 852,\n",
       " 'during': 853,\n",
       " 'apple': 854,\n",
       " 'set': 855,\n",
       " 'however': 856,\n",
       " 'advanced': 857,\n",
       " 'relevant': 858,\n",
       " '9': 859,\n",
       " 'changed': 860,\n",
       " 'gives': 861,\n",
       " '30': 862,\n",
       " '8': 863,\n",
       " 'social…': 864,\n",
       " 'sorry': 865,\n",
       " 'consider': 866,\n",
       " 'realdonaldtrump': 867,\n",
       " 'perfect': 868,\n",
       " 'topic': 869,\n",
       " 'dear': 870,\n",
       " 'fix': 871,\n",
       " 'biggest': 872,\n",
       " 'pete': 873,\n",
       " 'term': 874,\n",
       " 'hearing': 875,\n",
       " 'shown': 876,\n",
       " 'anymore': 877,\n",
       " 'about…': 878,\n",
       " 'learned': 879,\n",
       " 'trailer': 880,\n",
       " 'civil': 881,\n",
       " 'under': 882,\n",
       " 'worked': 883,\n",
       " 'clear': 884,\n",
       " 'jefforlowski': 885,\n",
       " 'r': 886,\n",
       " 'waiting': 887,\n",
       " 'word': 888,\n",
       " 'mins': 889,\n",
       " 'gets': 890,\n",
       " 'lots': 891,\n",
       " 'young': 892,\n",
       " 'regulate': 893,\n",
       " 'couldn’t': 894,\n",
       " \"'\": 895,\n",
       " \"we've\": 896,\n",
       " 'add': 897,\n",
       " 'network': 898,\n",
       " 'friend': 899,\n",
       " 'mit': 900,\n",
       " 'engineers': 901,\n",
       " 'considering': 902,\n",
       " 'late': 903,\n",
       " 'series': 904,\n",
       " 'school': 905,\n",
       " 'click': 906,\n",
       " 'interested': 907,\n",
       " '😬': 908,\n",
       " 'list': 909,\n",
       " 'we…': 910,\n",
       " 'whatsapp': 911,\n",
       " 'r…': 912,\n",
       " 'disagree': 913,\n",
       " 'hi': 914,\n",
       " 'personal': 915,\n",
       " 'available': 916,\n",
       " 'discuss': 917,\n",
       " 'able': 918,\n",
       " 'views': 919,\n",
       " 'shocking': 920,\n",
       " 'matter': 921,\n",
       " 'bye': 922,\n",
       " 'stay': 923,\n",
       " 'tried': 924,\n",
       " 'recommendations': 925,\n",
       " 'raised': 926,\n",
       " 'goals': 927,\n",
       " 'socials': 928,\n",
       " 'recent': 929,\n",
       " 'incredibly': 930,\n",
       " 'taken': 931,\n",
       " 'are…': 932,\n",
       " 'reasons': 933,\n",
       " 'this…': 934,\n",
       " 'pinterest': 935,\n",
       " 'critical': 936,\n",
       " 'home': 937,\n",
       " 'soc…': 938,\n",
       " 'dystopia': 939,\n",
       " \"i'd\": 940,\n",
       " 'explain': 941,\n",
       " 'travels': 942,\n",
       " 'tree': 943,\n",
       " 'truman': 944,\n",
       " 'aren’t': 945,\n",
       " 'evil': 946,\n",
       " 'went': 947,\n",
       " 'narrative': 948,\n",
       " 'rather': 949,\n",
       " 'light': 950,\n",
       " 'asking': 951,\n",
       " 'wa…': 952,\n",
       " 'shook': 953,\n",
       " 'fabric': 954,\n",
       " 'controlled': 955,\n",
       " 'trump': 956,\n",
       " 'our…': 957,\n",
       " 'magic': 958,\n",
       " 'figure': 959,\n",
       " 'minds': 960,\n",
       " 'streaming': 961,\n",
       " 'insta': 962,\n",
       " 'persuasive': 963,\n",
       " '“nothing': 964,\n",
       " 'couple': 965,\n",
       " 'type': 966,\n",
       " 'us…': 967,\n",
       " 'consequences': 968,\n",
       " 'regulation': 969,\n",
       " 'within': 970,\n",
       " 'straight': 971,\n",
       " 'rn': 972,\n",
       " 'drop': 973,\n",
       " 'suicide': 974,\n",
       " 'ethics': 975,\n",
       " 'soci…': 976,\n",
       " 'abt': 977,\n",
       " 'connects': 978,\n",
       " 'horrifying': 979,\n",
       " 'fight': 980,\n",
       " 'awesome': 981,\n",
       " 'c': 982,\n",
       " 'whatever': 983,\n",
       " 'race': 984,\n",
       " '💯': 985,\n",
       " 'uncomfortable': 986,\n",
       " 'ur': 987,\n",
       " 'watches': 988,\n",
       " 'socia…': 989,\n",
       " 'but…': 990,\n",
       " 'touch': 991,\n",
       " 'cuties': 992,\n",
       " 'enjoyed': 993,\n",
       " 'opened': 994,\n",
       " 'save': 995,\n",
       " 'play': 996,\n",
       " 'interviewed': 997,\n",
       " 'networking': 998,\n",
       " 'n…': 999,\n",
       " '👍': 1000,\n",
       " ...}"
      ]
     },
     "execution_count": 11,
     "metadata": {},
     "output_type": "execute_result"
    }
   ],
   "source": [
    "tokenizer.word_index"
   ]
  },
  {
   "cell_type": "markdown",
   "metadata": {},
   "source": [
    "Як бачимо, найчастіше в текстах новин зустрічаються артиклі (\"the\", \"a\", \"to\" тощо). Цим словам буде привласнено найменші відповідні числові значення. Слова, які зустрічаються в тексті більш рідко, будуть кодуватись більшими числами. Наприклад, слову \"monday\" у векторі частотного подання буде відповідати код 46.\n",
    "\n",
    "Перетворимо новини до числового подання."
   ]
  },
  {
   "cell_type": "code",
   "execution_count": 12,
   "metadata": {},
   "outputs": [],
   "source": [
    "sequences = tokenizer.texts_to_sequences(news_train)"
   ]
  },
  {
   "cell_type": "markdown",
   "metadata": {},
   "source": [
    "Для перевірки результату можна переглянути текст деякої новини та відповідний їй вектор у частотному кодуванні."
   ]
  },
  {
   "cell_type": "code",
   "execution_count": 13,
   "metadata": {},
   "outputs": [
    {
     "name": "stdout",
     "output_type": "stream",
     "text": [
      "Nothing Vast enters the life of Mortals without a curse - Sophocles \n",
      "#TheSocialDilemma\n",
      "[305, 474, 494, 5, 178, 16, 502, 251, 10, 590, 655, 1]\n"
     ]
    }
   ],
   "source": [
    "# Індекс новини для перегляду\n",
    "index = 3\n",
    "# Текст новини із початкового набору даних\n",
    "print(news_train[index])\n",
    "# Текст тієї ж новини у вигляді вектору частотного подання\n",
    "print(sequences[index])"
   ]
  },
  {
   "cell_type": "markdown",
   "metadata": {},
   "source": [
    "Переглянемо код із словника токенізатора для слова \"Games\" із розглянутої новини."
   ]
  },
  {
   "cell_type": "code",
   "execution_count": 14,
   "metadata": {},
   "outputs": [
    {
     "data": {
      "text/plain": [
       "242"
      ]
     },
     "execution_count": 14,
     "metadata": {},
     "output_type": "execute_result"
    }
   ],
   "source": [
    "tokenizer.word_index['understand']"
   ]
  },
  {
   "cell_type": "markdown",
   "metadata": {},
   "source": [
    "Всі вхідні вектори для нейронної мережі мають бути однакової довжини. Однак, тексти кожної з новин мають різну кількість слів. Відповідно, вектори їх частотного подання також містять різну кількість елементів. Щоб виправити цю ситуацію, скористаємось функцією `pad_sequences()`. Ця функція буде доповнювати нулями вектори, які мають довжину меншу, ніж вказану у параметрі `maxlen`. А вектори, які є довшмими за `maxlen`, будуть обрізані."
   ]
  },
  {
   "cell_type": "code",
   "execution_count": 15,
   "metadata": {},
   "outputs": [],
   "source": [
    "x_train = pad_sequences(sequences, maxlen=max_news_len)"
   ]
  },
  {
   "cell_type": "markdown",
   "metadata": {},
   "source": [
    "Переглянемо перші 5 записів із навчального набору даних."
   ]
  },
  {
   "cell_type": "code",
   "execution_count": 16,
   "metadata": {},
   "outputs": [
    {
     "data": {
      "text/plain": [
       "array([[   0,    0,    0,    0,    0,    0,    0,    0,    0,    0,    0,\n",
       "           0,    0,    0,    0,    0,    0,    0,    0,    0,    0,    0,\n",
       "           0,    0,    0,    0,    0,    0,    0,    0,    0,    0,    0,\n",
       "           0,    0,    0,    0,    1,   53,    6,   42,    5, 3349,  256,\n",
       "           9,   25,   20,   10,  143,   60,   45, 2022,  160, 2023, 7676,\n",
       "           8, 2347,    4,    2,    3, 7677],\n",
       "       [   0,    0,    0,    0,    0,    0,    0,    0,    0,    0,    0,\n",
       "           0,    0,    0,    0,    0,    0,    0,    0,    0,    0,    0,\n",
       "           0,    0,    0,    0,    0,    0,    0,    0,    0,    0,    0,\n",
       "           0,    0,    0,    0,    0,    0,    0,    0,    0,    0,    0,\n",
       "           0,    0,    0,    0,    0,    5, 2926, 5169,    8, 7678,   20,\n",
       "          18,  240,   21,   45, 1423,    1],\n",
       "       [   0,    0,    0,    0,    0,    0,    0,    0,    0,    0,    0,\n",
       "           0,    0,    0,    0,    0,    0,    0,    0,    0,    0,    0,\n",
       "           0,    0,    0,    0,    0,    0,    0,    0,    0,    0,    0,\n",
       "           0,    0,    0,    0,    9,   30,  135,   24,    1,   50,   52,\n",
       "        2024,   23,   53,  883,    7,  186,   13,  219,   22,   38,  132,\n",
       "          16,  265,    4,    2,    3, 7679],\n",
       "       [   0,    0,    0,    0,    0,    0,    0,    0,    0,    0,    0,\n",
       "           0,    0,    0,    0,    0,    0,    0,    0,    0,    0,    0,\n",
       "           0,    0,    0,    0,    0,    0,    0,    0,    0,    0,    0,\n",
       "           0,    0,    0,    0,    0,    0,    0,    0,    0,    0,    0,\n",
       "           0,    0,    0,    0,    0,  305,  474,  494,    5,  178,   16,\n",
       "         502,  251,   10,  590,  655,    1],\n",
       "       [   0,    0,    0,    0,    0,    0,    0,    0,    0,    0,    0,\n",
       "           0,    0,    0,    0,    0,    0,    0,    0,    0,    0,    0,\n",
       "           0,    0,    0,    0,    0,    0,    0,    0,    0,    0,    0,\n",
       "           0,    0,    0,    0,    0,   30,   25,    1,   10,  213,   16,\n",
       "           5,  537,  926,   97,   21,    5,  188,   26,    5, 1153,  138,\n",
       "         245, 1030,    4,    2,    3, 7680]])"
      ]
     },
     "execution_count": 16,
     "metadata": {},
     "output_type": "execute_result"
    }
   ],
   "source": [
    "x_train[:5]"
   ]
  },
  {
   "cell_type": "markdown",
   "metadata": {},
   "source": [
    "Тепер дані готові до їх аналізу нейронними мережами."
   ]
  },
  {
   "cell_type": "markdown",
   "metadata": {},
   "source": [
    "### <center>Класифікація текстів мережею LSTM"
   ]
  },
  {
   "cell_type": "markdown",
   "metadata": {},
   "source": [
    "Прошарки мережі LSTM складаються зі специфічних складних рекурентних модулів, які називаються комірками. Кожна комірка LSTM містить чотири спеціалізованих прошарки нейронів. Кількість нейронів у цих прошарках є зовнішнім параметром та задається аналітиком. На вхід прошарку LSTM обов'язково має бути подана послідовність. Зі скалярними величинами LSTM не працює. У зв'язку з цим, якщо мережа LSTM планується глибинною, то усі LSTM-прошарки, окрім останнього, повинні мати параметр `return_sequences=True`. Також можна задати різні активаційні функції, активувати дропаут для регуляризації, визначити метод ініціалізації ваг тощо. \n",
    "- З усіма доступними параметрами прошарків LSTM в Keras можна ознайомитись в [документації](https://keras.io/api/layers/recurrent_layers/lstm/)."
   ]
  },
  {
   "cell_type": "markdown",
   "metadata": {},
   "source": [
    "Створимо мережу LSTM для класифікації новин за темами. Мережа буде мати наступну архітектуру:\n",
    "- Прошарок *Embedding* для перетворення вхідних даних до формату щільних векторів. В параметрах прошарку вказуємо кількість слів у словнику щільного подання, розмірніть щільного вектора та довжину вхідного вектора.\n",
    "- Прошарок *LSTM*, який містить 16 нейронів.\n",
    "- Повнозв'язний вихідний прошарок для класифікації. Кількість нейронів має відповідати кількості класів у задачі категоріальної класифікації, або дорівнювати 1 у задачі бінарної класифікації."
   ]
  },
  {
   "cell_type": "code",
   "execution_count": 17,
   "metadata": {},
   "outputs": [],
   "source": [
    "model_lstm = Sequential()\n",
    "\n",
    "model_lstm.add(Embedding(num_words, 32, input_length=max_news_len))\n",
    "model_lstm.add(LSTM(16))\n",
    "model_lstm.add(Dense(3, activation='softmax'))"
   ]
  },
  {
   "cell_type": "markdown",
   "metadata": {},
   "source": [
    "Компілюємо модель. Вказуємо оптимізатор *adam*, критерій якості - *categorical_crossentropy* (для задачі категоріальної класифікації), метрику - *accuracy*."
   ]
  },
  {
   "cell_type": "code",
   "execution_count": 18,
   "metadata": {},
   "outputs": [],
   "source": [
    "model_lstm.compile(optimizer='adam', \n",
    "              loss='categorical_crossentropy', \n",
    "              metrics=['accuracy'])"
   ]
  },
  {
   "cell_type": "markdown",
   "metadata": {},
   "source": [
    "Переглянемо інформацію про створену модель."
   ]
  },
  {
   "cell_type": "code",
   "execution_count": 19,
   "metadata": {},
   "outputs": [
    {
     "name": "stdout",
     "output_type": "stream",
     "text": [
      "Model: \"sequential\"\n",
      "_________________________________________________________________\n",
      "Layer (type)                 Output Shape              Param #   \n",
      "=================================================================\n",
      "embedding (Embedding)        (None, 61, 32)            10171808  \n",
      "_________________________________________________________________\n",
      "lstm (LSTM)                  (None, 16)                3136      \n",
      "_________________________________________________________________\n",
      "dense (Dense)                (None, 3)                 51        \n",
      "=================================================================\n",
      "Total params: 10,174,995\n",
      "Trainable params: 10,174,995\n",
      "Non-trainable params: 0\n",
      "_________________________________________________________________\n"
     ]
    }
   ],
   "source": [
    "model_lstm.summary()"
   ]
  },
  {
   "cell_type": "markdown",
   "metadata": {},
   "source": [
    "Створюємо callback у вигляді класу ModelCheckpoint для збереження нейронної мережі на кожній епосі, якщо якість роботи на валідаційному наборі даних покращилась. Найкраща мережа автоматично зберігається до файлу *best_model_lstm.h5*. В якості параметру для моніторингу вказуємо долю правильних відповідей на валідаційній множині *val_accuracy*. Будемо зберігати лише найкращу модель (`save_best_only=True`).\n",
    "\n",
    "- Детальніше про роботу даної функції зворотного виклику можна прочитати в [документації](https://keras.io/api/callbacks/model_checkpoint)."
   ]
  },
  {
   "cell_type": "code",
   "execution_count": 20,
   "metadata": {},
   "outputs": [],
   "source": [
    "model_lstm_save_path = 'best_model_lstm.h5'\n",
    "checkpoint_callback_lstm = ModelCheckpoint(model_lstm_save_path, \n",
    "                                      monitor='val_accuracy',\n",
    "                                      save_best_only=True,\n",
    "                                      verbose=1)"
   ]
  },
  {
   "cell_type": "markdown",
   "metadata": {},
   "source": [
    "Навчаємо мережу. В якості функції зворотного виклику вказуємо щойно створений об'єкт *checkpoint_callback_lstm*."
   ]
  },
  {
   "cell_type": "code",
   "execution_count": 21,
   "metadata": {
    "scrolled": true
   },
   "outputs": [
    {
     "name": "stdout",
     "output_type": "stream",
     "text": [
      "Epoch 1/5\n",
      "127/127 [==============================] - ETA: 0s - loss: 0.9022 - accuracy: 0.5902\n",
      "Epoch 00001: val_accuracy improved from -inf to 0.73326, saving model to best_model_lstm.h5\n",
      "127/127 [==============================] - 22s 170ms/step - loss: 0.9022 - accuracy: 0.5902 - val_loss: 0.6704 - val_accuracy: 0.7333\n",
      "Epoch 2/5\n",
      "127/127 [==============================] - ETA: 0s - loss: 0.5328 - accuracy: 0.7849\n",
      "Epoch 00002: val_accuracy improved from 0.73326 to 0.79635, saving model to best_model_lstm.h5\n",
      "127/127 [==============================] - 20s 160ms/step - loss: 0.5328 - accuracy: 0.7849 - val_loss: 0.5137 - val_accuracy: 0.7963\n",
      "Epoch 3/5\n",
      "127/127 [==============================] - ETA: 0s - loss: 0.3393 - accuracy: 0.8651\n",
      "Epoch 00003: val_accuracy improved from 0.79635 to 0.82678, saving model to best_model_lstm.h5\n",
      "127/127 [==============================] - 21s 161ms/step - loss: 0.3393 - accuracy: 0.8651 - val_loss: 0.4462 - val_accuracy: 0.8268\n",
      "Epoch 4/5\n",
      "127/127 [==============================] - ETA: 0s - loss: 0.1954 - accuracy: 0.9450\n",
      "Epoch 00004: val_accuracy improved from 0.82678 to 0.87216, saving model to best_model_lstm.h5\n",
      "127/127 [==============================] - 21s 165ms/step - loss: 0.1954 - accuracy: 0.9450 - val_loss: 0.3947 - val_accuracy: 0.8722\n",
      "Epoch 5/5\n",
      "127/127 [==============================] - ETA: 0s - loss: 0.1060 - accuracy: 0.9753\n",
      "Epoch 00005: val_accuracy improved from 0.87216 to 0.88711, saving model to best_model_lstm.h5\n",
      "127/127 [==============================] - 20s 159ms/step - loss: 0.1060 - accuracy: 0.9753 - val_loss: 0.3595 - val_accuracy: 0.8871\n"
     ]
    }
   ],
   "source": [
    "history_lstm = model_lstm.fit(x_train, \n",
    "                              y_train, \n",
    "                              epochs=5,\n",
    "                              batch_size=128,\n",
    "                              validation_split=0.1,\n",
    "                              callbacks=[checkpoint_callback_lstm])"
   ]
  },
  {
   "cell_type": "markdown",
   "metadata": {},
   "source": [
    "Як видно з історії, найкращий результат на валідаційній множині мережа показувала на 5 епосі. Саме ця модель була збережена до файлу *best_model_lstm.h5*. \n",
    "\n",
    "Переглянемо графік навчання."
   ]
  },
  {
   "cell_type": "code",
   "execution_count": 22,
   "metadata": {},
   "outputs": [
    {
     "data": {
      "image/png": "[encoded data removed]",
      "text/plain": [
       "<Figure size 640x480 with 1 Axes>"
      ]
     },
     "metadata": {},
     "output_type": "display_data"
    }
   ],
   "source": [
    "plt.plot(history_lstm.history['accuracy'])\n",
    "plt.plot(history_lstm.history['val_accuracy'])\n",
    "plt.title('Model accuracy')\n",
    "plt.ylabel('accuracy')\n",
    "plt.xlabel('Epoch')\n",
    "plt.legend(['Train', 'Val'], loc='upper left')\n",
    "plt.show()"
   ]
  },
  {
   "cell_type": "markdown",
   "metadata": {},
   "source": [
    "Дійсно, з графіку видно, що після 5 епохи виникає перенавчання. Callback спрацював коректно."
   ]
  },
  {
   "cell_type": "markdown",
   "metadata": {},
   "source": [
    "### <center>Оцінка результативності мереж LSTM та GRU на тестових даних"
   ]
  },
  {
   "cell_type": "markdown",
   "metadata": {},
   "source": [
    "Проведемо оцінку якості роботи обох навчених мереж на тестовій множині. Для цього спочатку перетворимо тестові дані у формат частотного подання слів."
   ]
  },
  {
   "cell_type": "code",
   "execution_count": 23,
   "metadata": {},
   "outputs": [],
   "source": [
    "test_sequences = tokenizer.texts_to_sequences(news_test)"
   ]
  },
  {
   "cell_type": "markdown",
   "metadata": {},
   "source": [
    "Вирівняємо довжини векторів у тестовому наборі даних."
   ]
  },
  {
   "cell_type": "code",
   "execution_count": 24,
   "metadata": {},
   "outputs": [],
   "source": [
    "x_test = pad_sequences(test_sequences, maxlen=max_news_len)"
   ]
  },
  {
   "cell_type": "markdown",
   "metadata": {},
   "source": [
    "Переглянемо перші 5 записів із тестового набору даних."
   ]
  },
  {
   "cell_type": "code",
   "execution_count": 25,
   "metadata": {},
   "outputs": [
    {
     "data": {
      "text/plain": [
       "array([[    0,     0,     0,     0,     0,     0,     0,     0,     0,\n",
       "            0,     0,     0,     0,     0,     0,     0,     0,     0,\n",
       "            0,     0,     0,     0,     0,     0,     0,     0,     0,\n",
       "            0,     0,     0,     0,     0,     0,     0,     0,     0,\n",
       "            0,     0,     0,     0,     0,     0,     0,     0,     0,\n",
       "            0,     0,   174,   133,     1,     7,    12,   424,   268,\n",
       "            8,    10,    39,    15,     4,     2,     3],\n",
       "       [    0,     0,     0,     0,     0,     0,     0,     0,     0,\n",
       "            0,     0,     0,     0,     0,     0,     0,     0,     0,\n",
       "            0,     0,     0,     0,     0,     0,     0,     0,     0,\n",
       "            0,     0,     0,     0,     0,     0,     0,     0,     0,\n",
       "            0,     0,     0,     0,     0,     0,     0,     0,     0,\n",
       "            0,     0,     0,     0,     0,   152,     1,    11,     6,\n",
       "         1098,    39,    15,    29,    14,   215,   141],\n",
       "       [    0,     0,     0,     0,     0,     0,     0,     0,     0,\n",
       "            0,     0,     0,     0,     0,     0,     0,     0,     0,\n",
       "            0,     0,     0,     0,     0,     0,     0,     0,     0,\n",
       "            0,     0,     0,     0,     0,     0,     0,     0,     0,\n",
       "            0,     0,     0,     0,     0,     0,     0,     0,     0,\n",
       "            0,     0,     0,     0,    15,     1,    15,     1,    15,\n",
       "            1,    14,    84,   385,    17,     7,    12],\n",
       "       [    0,     0,     0,     0,     0,     0,     0,     0,     0,\n",
       "            0,     0,     0,     0,     0,     0,     0,     0,     0,\n",
       "            0,     0,     0,     0,     0,     0,     0,     0,     0,\n",
       "            0,     0,     0,     0,     0,     0,     0,     0,     0,\n",
       "            0,     0,    20,    10,   118,     6,   546, 11945,    26,\n",
       "           34, 15786,    10,   213,    16,    59,   144,   529,  1378,\n",
       "           13,    19,    35, 15682,     4,     2,     3],\n",
       "       [    0,     0,     0,     0,     0,     0,     0,     0,     0,\n",
       "            0,     0,     0,     0,     0,     0,     0,     0,     0,\n",
       "            0,     0,     0,     0,     0,     0,     0,     0,     0,\n",
       "            0,     0,     0,     0,     0,     0,     0,     0,     0,\n",
       "            0,     0,     0,     0,     0,     0,     0,     0,     0,\n",
       "            0,     0,     0,     0,  5783,    95,     6,     5,  2080,\n",
       "         2650,     1,    12, 15885,     4,     2,     3]])"
      ]
     },
     "execution_count": 25,
     "metadata": {},
     "output_type": "execute_result"
    }
   ],
   "source": [
    "x_test[:5]"
   ]
  },
  {
   "cell_type": "markdown",
   "metadata": {},
   "source": [
    "Проведемо оцінку якості роботи мережі LSTM на тестовій множині. Для цього завантажимо ваги найкращої моделі."
   ]
  },
  {
   "cell_type": "code",
   "execution_count": 26,
   "metadata": {},
   "outputs": [],
   "source": [
    "model_lstm.load_weights(model_lstm_save_path)"
   ]
  },
  {
   "cell_type": "markdown",
   "metadata": {},
   "source": [
    "Тестуємо."
   ]
  },
  {
   "cell_type": "code",
   "execution_count": 27,
   "metadata": {},
   "outputs": [
    {
     "name": "stdout",
     "output_type": "stream",
     "text": [
      "63/63 [==============================] - 1s 8ms/step - loss: 0.3518 - accuracy: 0.8854\n"
     ]
    },
    {
     "data": {
      "text/plain": [
       "[0.3517659902572632, 0.8854010701179504]"
      ]
     },
     "execution_count": 27,
     "metadata": {},
     "output_type": "execute_result"
    }
   ],
   "source": [
    "model_lstm.evaluate(x_test, y_test, verbose=1)"
   ]
  },
  {
   "cell_type": "markdown",
   "metadata": {},
   "source": [
    "Мережа показала долю правильних відповідей на тестовій множині на рівні  близько 89,6%."
   ]
  },
  {
   "cell_type": "markdown",
   "metadata": {},
   "source": [
    "### <center>Перевірка роботи мереж на власних даних"
   ]
  },
  {
   "cell_type": "markdown",
   "metadata": {},
   "source": [
    "Застосуємо навчені мережі для класифікації довільного тексту. відгук з [rottentomatoes.com](https://www.rottentomatoes.com/m/the_social_dilemma)."
   ]
  },
  {
   "cell_type": "code",
   "execution_count": 45,
   "metadata": {},
   "outputs": [],
   "source": [
    "my_news = [\"With all the digital technology we carry and have around the house, we just don't know who is\"]"
   ]
  },
  {
   "cell_type": "code",
   "execution_count": 46,
   "metadata": {},
   "outputs": [
    {
     "data": {
      "text/plain": [
       "[\"With all the digital technology we carry and have around the house, we just don't know who is\"]"
      ]
     },
     "execution_count": 46,
     "metadata": {},
     "output_type": "execute_result"
    }
   ],
   "source": [
    "my_news"
   ]
  },
  {
   "cell_type": "markdown",
   "metadata": {},
   "source": [
    "Перетворимо текст новини до частотного подання. Зверніть увагу, що має використовуватись той самий токенізатор, що і для навчальних даних."
   ]
  },
  {
   "cell_type": "code",
   "execution_count": 47,
   "metadata": {},
   "outputs": [],
   "source": [
    "my_sequence = tokenizer.texts_to_sequences(my_news)"
   ]
  },
  {
   "cell_type": "code",
   "execution_count": 48,
   "metadata": {
    "scrolled": true
   },
   "outputs": [
    {
     "data": {
      "text/plain": [
       "[[41, 37, 5, 279, 114, 26, 4005, 8, 34, 344, 5, 2025, 26, 30, 122, 56, 80, 11]]"
      ]
     },
     "execution_count": 48,
     "metadata": {},
     "output_type": "execute_result"
    }
   ],
   "source": [
    "my_sequence"
   ]
  },
  {
   "cell_type": "markdown",
   "metadata": {},
   "source": [
    "Вирівняємо довжину отриманого вектора."
   ]
  },
  {
   "cell_type": "code",
   "execution_count": 49,
   "metadata": {},
   "outputs": [],
   "source": [
    "x_my = pad_sequences(my_sequence, maxlen=max_news_len)"
   ]
  },
  {
   "cell_type": "markdown",
   "metadata": {},
   "source": [
    "Запишемо назви класів."
   ]
  },
  {
   "cell_type": "code",
   "execution_count": 50,
   "metadata": {},
   "outputs": [],
   "source": [
    "class_names = ['Neutral', 'Positive', 'Negative']"
   ]
  },
  {
   "cell_type": "markdown",
   "metadata": {},
   "source": [
    "Використаємо мережу LSTM для класифікації даного тексту."
   ]
  },
  {
   "cell_type": "code",
   "execution_count": 51,
   "metadata": {},
   "outputs": [],
   "source": [
    "prediction_lstm = model_lstm.predict(x_my)\n",
    "score_lstm = np.max(prediction_lstm)\n",
    "prediction_lstm = np.argmax(prediction_lstm)"
   ]
  },
  {
   "cell_type": "code",
   "execution_count": 52,
   "metadata": {},
   "outputs": [
    {
     "name": "stdout",
     "output_type": "stream",
     "text": [
      "Категорія новини: Positive \n",
      "Достовірність 95.80 %\n"
     ]
    }
   ],
   "source": [
    "print(f'Категорія новини: {class_names[prediction_lstm]} \\nДостовірність {score_lstm*100:.2f} %')"
   ]
  },
  {
   "cell_type": "code",
   "execution_count": null,
   "metadata": {},
   "outputs": [],
   "source": []
  }
 ],
 "metadata": {
  "kernelspec": {
   "display_name": "Python 3 (ipykernel)",
   "language": "python",
   "name": "python3"
  },
  "language_info": {
   "codemirror_mode": {
    "name": "ipython",
    "version": 3
   },
   "file_extension": ".py",
   "mimetype": "text/x-python",
   "name": "python",
   "nbconvert_exporter": "python",
   "pygments_lexer": "ipython3",
   "version": "3.7.0"
  }
 },
 "nbformat": 4,
 "nbformat_minor": 4
}
